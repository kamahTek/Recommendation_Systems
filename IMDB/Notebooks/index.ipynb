{
 "cells": [
  {
   "cell_type": "markdown",
   "metadata": {
    "id": "fizmYWqnXvab"
   },
   "source": [
    "## Recommendation System"
   ]
  },
  {
   "cell_type": "code",
   "execution_count": 1,
   "metadata": {
    "executionInfo": {
     "elapsed": 4086,
     "status": "ok",
     "timestamp": 1727174122122,
     "user": {
      "displayName": "Antonny Muiko",
      "userId": "09124655826879237495"
     },
     "user_tz": -180
    },
    "id": "cX4r1Rc7Xvag"
   },
   "outputs": [],
   "source": [
    "import os\n",
    "import pandas as pd\n",
    "import numpy as np\n",
    "import seaborn as sns\n",
    "import matplotlib.pyplot as plt\n",
    "\n",
    "from sklearn.feature_extraction.text import TfidfVectorizer\n",
    "from sklearn.metrics.pairwise import cosine_similarity\n",
    "from sklearn.preprocessing import MinMaxScaler\n",
    "\n",
    "import gzip"
   ]
  },
  {
   "cell_type": "code",
   "execution_count": 2,
   "metadata": {
    "colab": {
     "base_uri": "https://localhost:8080/"
    },
    "executionInfo": {
     "elapsed": 3095,
     "status": "ok",
     "timestamp": 1727174125214,
     "user": {
      "displayName": "Antonny Muiko",
      "userId": "09124655826879237495"
     },
     "user_tz": -180
    },
    "id": "z5x2T7u5XyDl",
    "outputId": "5b474ad4-f34e-4059-e3c5-9388eaaa6efa"
   },
   "outputs": [],
   "source": [
    "# for google collab use only\n",
    "# from google.colab import drive\n",
    "# drive.mount('/content/drive')"
   ]
  },
  {
   "cell_type": "code",
   "execution_count": 3,
   "metadata": {
    "executionInfo": {
     "elapsed": 9,
     "status": "ok",
     "timestamp": 1727174125214,
     "user": {
      "displayName": "Antonny Muiko",
      "userId": "09124655826879237495"
     },
     "user_tz": -180
    },
    "id": "SCXlo9KYYLpY"
   },
   "outputs": [],
   "source": [
    "# connecting to google drive\n",
    "# os.chdir('/content/drive/MyDrive/Class/DSF-FT09/Tools/IMDB/Notebooks')"
   ]
  },
  {
   "cell_type": "code",
   "execution_count": 4,
   "metadata": {
    "colab": {
     "base_uri": "https://localhost:8080/"
    },
    "executionInfo": {
     "elapsed": 10,
     "status": "ok",
     "timestamp": 1727174125215,
     "user": {
      "displayName": "Antonny Muiko",
      "userId": "09124655826879237495"
     },
     "user_tz": -180
    },
    "id": "tNYhDEb2YcB2",
    "outputId": "78e06b31-df6e-484d-c3a9-bde680663a79"
   },
   "outputs": [],
   "source": [
    "# os.listdir()"
   ]
  },
  {
   "cell_type": "code",
   "execution_count": 5,
   "metadata": {
    "executionInfo": {
     "elapsed": 6,
     "status": "ok",
     "timestamp": 1727174125215,
     "user": {
      "displayName": "Antonny Muiko",
      "userId": "09124655826879237495"
     },
     "user_tz": -180
    },
    "id": "a4KAuBTBXvak"
   },
   "outputs": [],
   "source": [
    "def read_zipped_tsv(file_path, header=None):\n",
    "    \"\"\"\n",
    "    Reads a zipped TSV file into a pandas DataFrame.\n",
    "\n",
    "    Args:\n",
    "        file_path (str): The path to the zipped TSV file.\n",
    "        header (int, default=None): Row number to use as the column names.\n",
    "\n",
    "    Returns:\n",
    "        pandas.DataFrame: The DataFrame containing the data from the zipped TSV file.\n",
    "\n",
    "    Raises:\n",
    "        ValueError: If the file path does not point to a valid gzip file.\n",
    "    \"\"\"\n",
    "\n",
    "    with gzip.open(file_path, 'rt', encoding='utf-8') as f:\n",
    "        try:\n",
    "            df = pd.read_csv(f, delimiter='\\t', header=header)\n",
    "        except OSError as e:\n",
    "            if \"not a gzip file\" in str(e):\n",
    "                raise ValueError(f\"Invalid file format for {file_path}. Expected a zipped TSV file.\") from e\n",
    "            else:\n",
    "                raise e  # Re-raise other OSError exceptions\n",
    "\n",
    "    return df"
   ]
  },
  {
   "cell_type": "code",
   "execution_count": 6,
   "metadata": {
    "id": "LVXlqv8XXval"
   },
   "outputs": [],
   "source": [
    "names = read_zipped_tsv('../Data/name.basics.tsv.gz', header=0)"
   ]
  },
  {
   "cell_type": "code",
   "execution_count": 7,
   "metadata": {
    "colab": {
     "base_uri": "https://localhost:8080/",
     "height": 243
    },
    "executionInfo": {
     "elapsed": 397,
     "status": "ok",
     "timestamp": 1727170592500,
     "user": {
      "displayName": "Antonny Muiko",
      "userId": "09124655826879237495"
     },
     "user_tz": -180
    },
    "id": "D3aZvosYXval",
    "outputId": "b077e56d-66f9-429f-ec7e-fe45c41cfb34"
   },
   "outputs": [
    {
     "data": {
      "text/html": [
       "<div>\n",
       "<style scoped>\n",
       "    .dataframe tbody tr th:only-of-type {\n",
       "        vertical-align: middle;\n",
       "    }\n",
       "\n",
       "    .dataframe tbody tr th {\n",
       "        vertical-align: top;\n",
       "    }\n",
       "\n",
       "    .dataframe thead th {\n",
       "        text-align: right;\n",
       "    }\n",
       "</style>\n",
       "<table border=\"1\" class=\"dataframe\">\n",
       "  <thead>\n",
       "    <tr style=\"text-align: right;\">\n",
       "      <th></th>\n",
       "      <th>nconst</th>\n",
       "      <th>primaryName</th>\n",
       "      <th>birthYear</th>\n",
       "      <th>deathYear</th>\n",
       "      <th>primaryProfession</th>\n",
       "      <th>knownForTitles</th>\n",
       "    </tr>\n",
       "  </thead>\n",
       "  <tbody>\n",
       "    <tr>\n",
       "      <th>0</th>\n",
       "      <td>nm0000001</td>\n",
       "      <td>Fred Astaire</td>\n",
       "      <td>1899</td>\n",
       "      <td>1987</td>\n",
       "      <td>actor,miscellaneous,producer</td>\n",
       "      <td>tt0072308,tt0050419,tt0053137,tt0027125</td>\n",
       "    </tr>\n",
       "    <tr>\n",
       "      <th>1</th>\n",
       "      <td>nm0000002</td>\n",
       "      <td>Lauren Bacall</td>\n",
       "      <td>1924</td>\n",
       "      <td>2014</td>\n",
       "      <td>actress,soundtrack,archive_footage</td>\n",
       "      <td>tt0037382,tt0075213,tt0117057,tt0038355</td>\n",
       "    </tr>\n",
       "    <tr>\n",
       "      <th>2</th>\n",
       "      <td>nm0000003</td>\n",
       "      <td>Brigitte Bardot</td>\n",
       "      <td>1934</td>\n",
       "      <td>\\N</td>\n",
       "      <td>actress,music_department,producer</td>\n",
       "      <td>tt0057345,tt0049189,tt0056404,tt0054452</td>\n",
       "    </tr>\n",
       "    <tr>\n",
       "      <th>3</th>\n",
       "      <td>nm0000004</td>\n",
       "      <td>John Belushi</td>\n",
       "      <td>1949</td>\n",
       "      <td>1982</td>\n",
       "      <td>actor,writer,music_department</td>\n",
       "      <td>tt0072562,tt0077975,tt0080455,tt0078723</td>\n",
       "    </tr>\n",
       "    <tr>\n",
       "      <th>4</th>\n",
       "      <td>nm0000005</td>\n",
       "      <td>Ingmar Bergman</td>\n",
       "      <td>1918</td>\n",
       "      <td>2007</td>\n",
       "      <td>writer,director,actor</td>\n",
       "      <td>tt0050986,tt0083922,tt0050976,tt0069467</td>\n",
       "    </tr>\n",
       "  </tbody>\n",
       "</table>\n",
       "</div>"
      ],
      "text/plain": [
       "      nconst      primaryName birthYear deathYear  \\\n",
       "0  nm0000001     Fred Astaire      1899      1987   \n",
       "1  nm0000002    Lauren Bacall      1924      2014   \n",
       "2  nm0000003  Brigitte Bardot      1934        \\N   \n",
       "3  nm0000004     John Belushi      1949      1982   \n",
       "4  nm0000005   Ingmar Bergman      1918      2007   \n",
       "\n",
       "                    primaryProfession                           knownForTitles  \n",
       "0        actor,miscellaneous,producer  tt0072308,tt0050419,tt0053137,tt0027125  \n",
       "1  actress,soundtrack,archive_footage  tt0037382,tt0075213,tt0117057,tt0038355  \n",
       "2   actress,music_department,producer  tt0057345,tt0049189,tt0056404,tt0054452  \n",
       "3       actor,writer,music_department  tt0072562,tt0077975,tt0080455,tt0078723  \n",
       "4               writer,director,actor  tt0050986,tt0083922,tt0050976,tt0069467  "
      ]
     },
     "execution_count": 7,
     "metadata": {},
     "output_type": "execute_result"
    }
   ],
   "source": [
    "names.head()"
   ]
  },
  {
   "cell_type": "code",
   "execution_count": 8,
   "metadata": {
    "colab": {
     "base_uri": "https://localhost:8080/"
    },
    "executionInfo": {
     "elapsed": 11,
     "status": "ok",
     "timestamp": 1727170593804,
     "user": {
      "displayName": "Antonny Muiko",
      "userId": "09124655826879237495"
     },
     "user_tz": -180
    },
    "id": "067MlWPoXvam",
    "outputId": "dc944a00-2262-4c40-e9c4-4f33d64e45fb"
   },
   "outputs": [
    {
     "data": {
      "text/plain": [
       "(13811372, 6)"
      ]
     },
     "execution_count": 8,
     "metadata": {},
     "output_type": "execute_result"
    }
   ],
   "source": [
    "names.shape"
   ]
  },
  {
   "cell_type": "code",
   "execution_count": 9,
   "metadata": {
    "id": "ETSQKjvwXvan"
   },
   "outputs": [],
   "source": [
    "ratings = read_zipped_tsv('../Data/title.ratings.tsv.gz', header=0)"
   ]
  },
  {
   "cell_type": "code",
   "execution_count": 10,
   "metadata": {
    "colab": {
     "base_uri": "https://localhost:8080/",
     "height": 206
    },
    "executionInfo": {
     "elapsed": 10,
     "status": "ok",
     "timestamp": 1727170596864,
     "user": {
      "displayName": "Antonny Muiko",
      "userId": "09124655826879237495"
     },
     "user_tz": -180
    },
    "id": "AuoGpMBdXvan",
    "outputId": "f84208ed-ac9f-495d-b44d-1f90b780fc9c"
   },
   "outputs": [
    {
     "data": {
      "text/html": [
       "<div>\n",
       "<style scoped>\n",
       "    .dataframe tbody tr th:only-of-type {\n",
       "        vertical-align: middle;\n",
       "    }\n",
       "\n",
       "    .dataframe tbody tr th {\n",
       "        vertical-align: top;\n",
       "    }\n",
       "\n",
       "    .dataframe thead th {\n",
       "        text-align: right;\n",
       "    }\n",
       "</style>\n",
       "<table border=\"1\" class=\"dataframe\">\n",
       "  <thead>\n",
       "    <tr style=\"text-align: right;\">\n",
       "      <th></th>\n",
       "      <th>tconst</th>\n",
       "      <th>averageRating</th>\n",
       "      <th>numVotes</th>\n",
       "    </tr>\n",
       "  </thead>\n",
       "  <tbody>\n",
       "    <tr>\n",
       "      <th>0</th>\n",
       "      <td>tt0000001</td>\n",
       "      <td>5.7</td>\n",
       "      <td>2089</td>\n",
       "    </tr>\n",
       "    <tr>\n",
       "      <th>1</th>\n",
       "      <td>tt0000002</td>\n",
       "      <td>5.6</td>\n",
       "      <td>283</td>\n",
       "    </tr>\n",
       "    <tr>\n",
       "      <th>2</th>\n",
       "      <td>tt0000003</td>\n",
       "      <td>6.5</td>\n",
       "      <td>2092</td>\n",
       "    </tr>\n",
       "    <tr>\n",
       "      <th>3</th>\n",
       "      <td>tt0000004</td>\n",
       "      <td>5.4</td>\n",
       "      <td>184</td>\n",
       "    </tr>\n",
       "    <tr>\n",
       "      <th>4</th>\n",
       "      <td>tt0000005</td>\n",
       "      <td>6.2</td>\n",
       "      <td>2827</td>\n",
       "    </tr>\n",
       "  </tbody>\n",
       "</table>\n",
       "</div>"
      ],
      "text/plain": [
       "      tconst  averageRating  numVotes\n",
       "0  tt0000001            5.7      2089\n",
       "1  tt0000002            5.6       283\n",
       "2  tt0000003            6.5      2092\n",
       "3  tt0000004            5.4       184\n",
       "4  tt0000005            6.2      2827"
      ]
     },
     "execution_count": 10,
     "metadata": {},
     "output_type": "execute_result"
    }
   ],
   "source": [
    "ratings.head()"
   ]
  },
  {
   "cell_type": "code",
   "execution_count": 11,
   "metadata": {
    "colab": {
     "base_uri": "https://localhost:8080/"
    },
    "executionInfo": {
     "elapsed": 5,
     "status": "ok",
     "timestamp": 1727170597412,
     "user": {
      "displayName": "Antonny Muiko",
      "userId": "09124655826879237495"
     },
     "user_tz": -180
    },
    "id": "hQyx-01CXvao",
    "outputId": "b2aa3013-7e1e-4dce-90ef-df7ef48f10ef"
   },
   "outputs": [
    {
     "data": {
      "text/plain": [
       "(1478542, 3)"
      ]
     },
     "execution_count": 11,
     "metadata": {},
     "output_type": "execute_result"
    }
   ],
   "source": [
    "ratings.shape"
   ]
  },
  {
   "cell_type": "code",
   "execution_count": 12,
   "metadata": {
    "colab": {
     "base_uri": "https://localhost:8080/"
    },
    "executionInfo": {
     "elapsed": 38405,
     "status": "ok",
     "timestamp": 1727170637362,
     "user": {
      "displayName": "Antonny Muiko",
      "userId": "09124655826879237495"
     },
     "user_tz": -180
    },
    "id": "BTJJ9CImXvao",
    "outputId": "6f0c26c7-edce-4f6c-f5fc-d6e2bf1dfded"
   },
   "outputs": [
    {
     "name": "stderr",
     "output_type": "stream",
     "text": [
      "c:\\Users\\user\\anaconda3\\envs\\learn-env\\lib\\site-packages\\IPython\\core\\interactiveshell.py:3373: DtypeWarning: Columns (4) have mixed types.Specify dtype option on import or set low_memory=False.\n",
      "  if await self.run_code(code, result, async_=asy):\n"
     ]
    }
   ],
   "source": [
    "basic_info = read_zipped_tsv('../Data/title.basics.tsv.gz', header=0)"
   ]
  },
  {
   "cell_type": "code",
   "execution_count": 13,
   "metadata": {
    "colab": {
     "base_uri": "https://localhost:8080/",
     "height": 261
    },
    "executionInfo": {
     "elapsed": 495,
     "status": "ok",
     "timestamp": 1727170644133,
     "user": {
      "displayName": "Antonny Muiko",
      "userId": "09124655826879237495"
     },
     "user_tz": -180
    },
    "id": "x68LjLcYXvap",
    "outputId": "538a124d-0d92-465f-e8f0-f233bcdb2367"
   },
   "outputs": [
    {
     "data": {
      "text/html": [
       "<div>\n",
       "<style scoped>\n",
       "    .dataframe tbody tr th:only-of-type {\n",
       "        vertical-align: middle;\n",
       "    }\n",
       "\n",
       "    .dataframe tbody tr th {\n",
       "        vertical-align: top;\n",
       "    }\n",
       "\n",
       "    .dataframe thead th {\n",
       "        text-align: right;\n",
       "    }\n",
       "</style>\n",
       "<table border=\"1\" class=\"dataframe\">\n",
       "  <thead>\n",
       "    <tr style=\"text-align: right;\">\n",
       "      <th></th>\n",
       "      <th>tconst</th>\n",
       "      <th>titleType</th>\n",
       "      <th>primaryTitle</th>\n",
       "      <th>originalTitle</th>\n",
       "      <th>isAdult</th>\n",
       "      <th>startYear</th>\n",
       "      <th>endYear</th>\n",
       "      <th>runtimeMinutes</th>\n",
       "      <th>genres</th>\n",
       "    </tr>\n",
       "  </thead>\n",
       "  <tbody>\n",
       "    <tr>\n",
       "      <th>0</th>\n",
       "      <td>tt0000001</td>\n",
       "      <td>short</td>\n",
       "      <td>Carmencita</td>\n",
       "      <td>Carmencita</td>\n",
       "      <td>0</td>\n",
       "      <td>1894</td>\n",
       "      <td>\\N</td>\n",
       "      <td>1</td>\n",
       "      <td>Documentary,Short</td>\n",
       "    </tr>\n",
       "    <tr>\n",
       "      <th>1</th>\n",
       "      <td>tt0000002</td>\n",
       "      <td>short</td>\n",
       "      <td>Le clown et ses chiens</td>\n",
       "      <td>Le clown et ses chiens</td>\n",
       "      <td>0</td>\n",
       "      <td>1892</td>\n",
       "      <td>\\N</td>\n",
       "      <td>5</td>\n",
       "      <td>Animation,Short</td>\n",
       "    </tr>\n",
       "    <tr>\n",
       "      <th>2</th>\n",
       "      <td>tt0000003</td>\n",
       "      <td>short</td>\n",
       "      <td>Pauvre Pierrot</td>\n",
       "      <td>Pauvre Pierrot</td>\n",
       "      <td>0</td>\n",
       "      <td>1892</td>\n",
       "      <td>\\N</td>\n",
       "      <td>5</td>\n",
       "      <td>Animation,Comedy,Romance</td>\n",
       "    </tr>\n",
       "    <tr>\n",
       "      <th>3</th>\n",
       "      <td>tt0000004</td>\n",
       "      <td>short</td>\n",
       "      <td>Un bon bock</td>\n",
       "      <td>Un bon bock</td>\n",
       "      <td>0</td>\n",
       "      <td>1892</td>\n",
       "      <td>\\N</td>\n",
       "      <td>12</td>\n",
       "      <td>Animation,Short</td>\n",
       "    </tr>\n",
       "    <tr>\n",
       "      <th>4</th>\n",
       "      <td>tt0000005</td>\n",
       "      <td>short</td>\n",
       "      <td>Blacksmith Scene</td>\n",
       "      <td>Blacksmith Scene</td>\n",
       "      <td>0</td>\n",
       "      <td>1893</td>\n",
       "      <td>\\N</td>\n",
       "      <td>1</td>\n",
       "      <td>Comedy,Short</td>\n",
       "    </tr>\n",
       "  </tbody>\n",
       "</table>\n",
       "</div>"
      ],
      "text/plain": [
       "      tconst titleType            primaryTitle           originalTitle  \\\n",
       "0  tt0000001     short              Carmencita              Carmencita   \n",
       "1  tt0000002     short  Le clown et ses chiens  Le clown et ses chiens   \n",
       "2  tt0000003     short          Pauvre Pierrot          Pauvre Pierrot   \n",
       "3  tt0000004     short             Un bon bock             Un bon bock   \n",
       "4  tt0000005     short        Blacksmith Scene        Blacksmith Scene   \n",
       "\n",
       "  isAdult startYear endYear runtimeMinutes                    genres  \n",
       "0       0      1894      \\N              1         Documentary,Short  \n",
       "1       0      1892      \\N              5           Animation,Short  \n",
       "2       0      1892      \\N              5  Animation,Comedy,Romance  \n",
       "3       0      1892      \\N             12           Animation,Short  \n",
       "4       0      1893      \\N              1              Comedy,Short  "
      ]
     },
     "execution_count": 13,
     "metadata": {},
     "output_type": "execute_result"
    }
   ],
   "source": [
    "basic_info.head()"
   ]
  },
  {
   "cell_type": "code",
   "execution_count": 14,
   "metadata": {
    "colab": {
     "base_uri": "https://localhost:8080/"
    },
    "executionInfo": {
     "elapsed": 394,
     "status": "ok",
     "timestamp": 1727170652068,
     "user": {
      "displayName": "Antonny Muiko",
      "userId": "09124655826879237495"
     },
     "user_tz": -180
    },
    "id": "doAv7SseXvap",
    "outputId": "db961a98-6651-404b-c7f6-a3fdf76ce025"
   },
   "outputs": [
    {
     "data": {
      "text/plain": [
       "(11094642, 9)"
      ]
     },
     "execution_count": 14,
     "metadata": {},
     "output_type": "execute_result"
    }
   ],
   "source": [
    "basic_info.shape"
   ]
  },
  {
   "cell_type": "markdown",
   "metadata": {
    "id": "xpdYP0ncXvap"
   },
   "source": [
    "## Data Understanding"
   ]
  },
  {
   "cell_type": "code",
   "execution_count": 15,
   "metadata": {
    "colab": {
     "base_uri": "https://localhost:8080/"
    },
    "executionInfo": {
     "elapsed": 395,
     "status": "ok",
     "timestamp": 1727170657762,
     "user": {
      "displayName": "Antonny Muiko",
      "userId": "09124655826879237495"
     },
     "user_tz": -180
    },
    "id": "fkGnuhYRXvap",
    "outputId": "3cc03f0a-803f-47c3-bb59-97b376b5c906"
   },
   "outputs": [
    {
     "name": "stdout",
     "output_type": "stream",
     "text": [
      "<class 'pandas.core.frame.DataFrame'>\n",
      "RangeIndex: 13811372 entries, 0 to 13811371\n",
      "Data columns (total 6 columns):\n",
      " #   Column             Dtype \n",
      "---  ------             ----- \n",
      " 0   nconst             object\n",
      " 1   primaryName        object\n",
      " 2   birthYear          object\n",
      " 3   deathYear          object\n",
      " 4   primaryProfession  object\n",
      " 5   knownForTitles     object\n",
      "dtypes: object(6)\n",
      "memory usage: 632.2+ MB\n"
     ]
    }
   ],
   "source": [
    "names.info()"
   ]
  },
  {
   "cell_type": "code",
   "execution_count": 16,
   "metadata": {
    "colab": {
     "base_uri": "https://localhost:8080/",
     "height": 272
    },
    "executionInfo": {
     "elapsed": 364,
     "status": "ok",
     "timestamp": 1727170672670,
     "user": {
      "displayName": "Antonny Muiko",
      "userId": "09124655826879237495"
     },
     "user_tz": -180
    },
    "id": "0ssZikk2Xvap",
    "outputId": "067653af-5a3d-4b2c-ac58-c0b35f248bdd"
   },
   "outputs": [
    {
     "data": {
      "text/plain": [
       "primaryName          0.000029\n",
       "knownForTitles       0.000000\n",
       "primaryProfession    0.000000\n",
       "deathYear            0.000000\n",
       "birthYear            0.000000\n",
       "nconst               0.000000\n",
       "dtype: float64"
      ]
     },
     "execution_count": 16,
     "metadata": {},
     "output_type": "execute_result"
    }
   ],
   "source": [
    "names.isnull().sum().sort_values(ascending=False) / len(names) * 100"
   ]
  },
  {
   "cell_type": "code",
   "execution_count": 17,
   "metadata": {
    "colab": {
     "base_uri": "https://localhost:8080/"
    },
    "executionInfo": {
     "elapsed": 391,
     "status": "ok",
     "timestamp": 1727170680440,
     "user": {
      "displayName": "Antonny Muiko",
      "userId": "09124655826879237495"
     },
     "user_tz": -180
    },
    "id": "CQXoIEWDXvaq",
    "outputId": "a8b69568-4012-4380-f58f-06c1029f05e8"
   },
   "outputs": [
    {
     "name": "stdout",
     "output_type": "stream",
     "text": [
      "<class 'pandas.core.frame.DataFrame'>\n",
      "RangeIndex: 1478542 entries, 0 to 1478541\n",
      "Data columns (total 3 columns):\n",
      " #   Column         Non-Null Count    Dtype  \n",
      "---  ------         --------------    -----  \n",
      " 0   tconst         1478542 non-null  object \n",
      " 1   averageRating  1478542 non-null  float64\n",
      " 2   numVotes       1478542 non-null  int64  \n",
      "dtypes: float64(1), int64(1), object(1)\n",
      "memory usage: 33.8+ MB\n"
     ]
    }
   ],
   "source": [
    "ratings.info()"
   ]
  },
  {
   "cell_type": "code",
   "execution_count": 18,
   "metadata": {
    "colab": {
     "base_uri": "https://localhost:8080/",
     "height": 178
    },
    "executionInfo": {
     "elapsed": 457,
     "status": "ok",
     "timestamp": 1727170682509,
     "user": {
      "displayName": "Antonny Muiko",
      "userId": "09124655826879237495"
     },
     "user_tz": -180
    },
    "id": "jSd78YIFXvaq",
    "outputId": "66e7f113-f486-44f1-8105-16c8dd62cc5b"
   },
   "outputs": [
    {
     "data": {
      "text/plain": [
       "numVotes         0.0\n",
       "averageRating    0.0\n",
       "tconst           0.0\n",
       "dtype: float64"
      ]
     },
     "execution_count": 18,
     "metadata": {},
     "output_type": "execute_result"
    }
   ],
   "source": [
    "ratings.isnull().sum().sort_values(ascending=False) / len(names) * 100"
   ]
  },
  {
   "cell_type": "code",
   "execution_count": 19,
   "metadata": {
    "id": "cr7XuQPbXvaq"
   },
   "outputs": [],
   "source": [
    "numeric_cols = ['averageRating', 'numVotes']\n",
    "\n",
    "for col in numeric_cols:\n",
    "    ratings[col] = pd.to_numeric(ratings[col], errors='coerce')"
   ]
  },
  {
   "cell_type": "code",
   "execution_count": 20,
   "metadata": {
    "colab": {
     "base_uri": "https://localhost:8080/",
     "height": 300
    },
    "executionInfo": {
     "elapsed": 418,
     "status": "ok",
     "timestamp": 1727170686142,
     "user": {
      "displayName": "Antonny Muiko",
      "userId": "09124655826879237495"
     },
     "user_tz": -180
    },
    "id": "vlGjevspXvaq",
    "outputId": "f83e448d-24ab-4c5a-d110-3d2b21966e79"
   },
   "outputs": [
    {
     "data": {
      "text/html": [
       "<div>\n",
       "<style scoped>\n",
       "    .dataframe tbody tr th:only-of-type {\n",
       "        vertical-align: middle;\n",
       "    }\n",
       "\n",
       "    .dataframe tbody tr th {\n",
       "        vertical-align: top;\n",
       "    }\n",
       "\n",
       "    .dataframe thead th {\n",
       "        text-align: right;\n",
       "    }\n",
       "</style>\n",
       "<table border=\"1\" class=\"dataframe\">\n",
       "  <thead>\n",
       "    <tr style=\"text-align: right;\">\n",
       "      <th></th>\n",
       "      <th>averageRating</th>\n",
       "      <th>numVotes</th>\n",
       "    </tr>\n",
       "  </thead>\n",
       "  <tbody>\n",
       "    <tr>\n",
       "      <th>count</th>\n",
       "      <td>1478542.000</td>\n",
       "      <td>1478542.000</td>\n",
       "    </tr>\n",
       "    <tr>\n",
       "      <th>mean</th>\n",
       "      <td>6.961</td>\n",
       "      <td>1031.062</td>\n",
       "    </tr>\n",
       "    <tr>\n",
       "      <th>std</th>\n",
       "      <td>1.380</td>\n",
       "      <td>17753.387</td>\n",
       "    </tr>\n",
       "    <tr>\n",
       "      <th>min</th>\n",
       "      <td>1.000</td>\n",
       "      <td>5.000</td>\n",
       "    </tr>\n",
       "    <tr>\n",
       "      <th>25%</th>\n",
       "      <td>6.200</td>\n",
       "      <td>11.000</td>\n",
       "    </tr>\n",
       "    <tr>\n",
       "      <th>50%</th>\n",
       "      <td>7.200</td>\n",
       "      <td>26.000</td>\n",
       "    </tr>\n",
       "    <tr>\n",
       "      <th>75%</th>\n",
       "      <td>7.900</td>\n",
       "      <td>101.000</td>\n",
       "    </tr>\n",
       "    <tr>\n",
       "      <th>max</th>\n",
       "      <td>10.000</td>\n",
       "      <td>2942046.000</td>\n",
       "    </tr>\n",
       "  </tbody>\n",
       "</table>\n",
       "</div>"
      ],
      "text/plain": [
       "       averageRating     numVotes\n",
       "count    1478542.000  1478542.000\n",
       "mean           6.961     1031.062\n",
       "std            1.380    17753.387\n",
       "min            1.000        5.000\n",
       "25%            6.200       11.000\n",
       "50%            7.200       26.000\n",
       "75%            7.900      101.000\n",
       "max           10.000  2942046.000"
      ]
     },
     "execution_count": 20,
     "metadata": {},
     "output_type": "execute_result"
    }
   ],
   "source": [
    "np.round(ratings[numeric_cols].describe(), 3)"
   ]
  },
  {
   "cell_type": "code",
   "execution_count": 21,
   "metadata": {
    "colab": {
     "base_uri": "https://localhost:8080/",
     "height": 487
    },
    "executionInfo": {
     "elapsed": 2006,
     "status": "ok",
     "timestamp": 1727170689888,
     "user": {
      "displayName": "Antonny Muiko",
      "userId": "09124655826879237495"
     },
     "user_tz": -180
    },
    "id": "7bOYh_uYXvaq",
    "outputId": "a7abf446-3b48-44e6-e281-61fa23ce5fce"
   },
   "outputs": [
    {
     "data": {
      "image/png": "[encoded data removed]",
      "text/plain": [
       "<Figure size 640x480 with 1 Axes>"
      ]
     },
     "metadata": {},
     "output_type": "display_data"
    }
   ],
   "source": [
    "sns.histplot(data=ratings, x=\"averageRating\", stat='frequency', bins=10)\n",
    "\n",
    "median = ratings['averageRating'].median()\n",
    "mean = ratings['averageRating'].mean()\n",
    "\n",
    "plt.axvline(median, color='red', linestyle='dashed', linewidth=1, label=f'Median: {median:.2f}')\n",
    "plt.axvline(mean, color='green', linestyle='dashdot', linewidth=1, label=f'Mean: {mean:.2f}')\n",
    "\n",
    "plt.xlabel(\"Average Rating\")\n",
    "plt.ylabel(\"Frequency\")\n",
    "plt.title(\"Histogram of Average Ratings\")\n",
    "plt.legend()\n",
    "\n",
    "plt.tight_layout()\n",
    "plt.show()"
   ]
  },
  {
   "cell_type": "code",
   "execution_count": 22,
   "metadata": {
    "colab": {
     "base_uri": "https://localhost:8080/",
     "height": 487
    },
    "executionInfo": {
     "elapsed": 1330,
     "status": "ok",
     "timestamp": 1727170691722,
     "user": {
      "displayName": "Antonny Muiko",
      "userId": "09124655826879237495"
     },
     "user_tz": -180
    },
    "id": "kj_xV4sQXvaq",
    "outputId": "d32facd8-0ef7-418f-ae86-28c61b249d2f"
   },
   "outputs": [
    {
     "data": {
      "image/png": "[encoded data removed]",
      "text/plain": [
       "<Figure size 640x480 with 1 Axes>"
      ]
     },
     "metadata": {},
     "output_type": "display_data"
    }
   ],
   "source": [
    "sns.histplot(data=ratings, x=\"numVotes\", stat='frequency', bins=30)\n",
    "\n",
    "median = ratings['numVotes'].median()\n",
    "mean = ratings['numVotes'].mean()\n",
    "\n",
    "plt.axvline(median, color='red', linestyle='dashed', linewidth=1, label=f'Median: {median:.2f}')\n",
    "plt.axvline(mean, color='green', linestyle='dashdot', linewidth=1, label=f'Mean: {mean:.2f}')\n",
    "\n",
    "plt.xlabel(\"Number of Votes\")\n",
    "plt.ylabel(\"Frequency\")\n",
    "plt.title(\"Number of Votes Histogram\")\n",
    "plt.legend()\n",
    "\n",
    "plt.tight_layout()\n",
    "plt.show()"
   ]
  },
  {
   "cell_type": "code",
   "execution_count": 23,
   "metadata": {
    "colab": {
     "base_uri": "https://localhost:8080/"
    },
    "executionInfo": {
     "elapsed": 389,
     "status": "ok",
     "timestamp": 1727170692536,
     "user": {
      "displayName": "Antonny Muiko",
      "userId": "09124655826879237495"
     },
     "user_tz": -180
    },
    "id": "eyH3DUgaXvar",
    "outputId": "c0d691ce-e392-4f96-de5a-8b010e83d4db"
   },
   "outputs": [
    {
     "name": "stdout",
     "output_type": "stream",
     "text": [
      "<class 'pandas.core.frame.DataFrame'>\n",
      "RangeIndex: 11094642 entries, 0 to 11094641\n",
      "Data columns (total 9 columns):\n",
      " #   Column          Dtype \n",
      "---  ------          ----- \n",
      " 0   tconst          object\n",
      " 1   titleType       object\n",
      " 2   primaryTitle    object\n",
      " 3   originalTitle   object\n",
      " 4   isAdult         object\n",
      " 5   startYear       object\n",
      " 6   endYear         object\n",
      " 7   runtimeMinutes  object\n",
      " 8   genres          object\n",
      "dtypes: object(9)\n",
      "memory usage: 761.8+ MB\n"
     ]
    }
   ],
   "source": [
    "basic_info.info()"
   ]
  },
  {
   "cell_type": "code",
   "execution_count": 24,
   "metadata": {
    "colab": {
     "base_uri": "https://localhost:8080/",
     "height": 366
    },
    "executionInfo": {
     "elapsed": 637,
     "status": "ok",
     "timestamp": 1727170701859,
     "user": {
      "displayName": "Antonny Muiko",
      "userId": "09124655826879237495"
     },
     "user_tz": -180
    },
    "id": "YA8R0J0UXvar",
    "outputId": "d29b6b73-dafe-47e3-ebf1-68666a55f27c"
   },
   "outputs": [
    {
     "data": {
      "text/plain": [
       "genres            0.004561\n",
       "originalTitle     0.000087\n",
       "primaryTitle      0.000087\n",
       "runtimeMinutes    0.000000\n",
       "endYear           0.000000\n",
       "startYear         0.000000\n",
       "isAdult           0.000000\n",
       "titleType         0.000000\n",
       "tconst            0.000000\n",
       "dtype: float64"
      ]
     },
     "execution_count": 24,
     "metadata": {},
     "output_type": "execute_result"
    }
   ],
   "source": [
    "basic_info.isnull().sum().sort_values(ascending=False) / len(names) * 100"
   ]
  },
  {
   "cell_type": "code",
   "execution_count": 25,
   "metadata": {
    "colab": {
     "base_uri": "https://localhost:8080/"
    },
    "executionInfo": {
     "elapsed": 863,
     "status": "ok",
     "timestamp": 1727170703193,
     "user": {
      "displayName": "Antonny Muiko",
      "userId": "09124655826879237495"
     },
     "user_tz": -180
    },
    "id": "UTQqNvlFXvar",
    "outputId": "6a154557-d599-42e9-a000-93afc5904640"
   },
   "outputs": [
    {
     "name": "stdout",
     "output_type": "stream",
     "text": [
      "genres\n",
      "Drama             1254527\n",
      "Comedy             734532\n",
      "Talk-Show          685411\n",
      "News               577945\n",
      "Documentary        532201\n",
      "Drama,Romance      515037\n",
      "\\N                 495799\n",
      "Reality-TV         353086\n",
      "Adult              311672\n",
      "News,Talk-Show     248264\n",
      "Name: genres, dtype: int64\n"
     ]
    }
   ],
   "source": [
    "genres = basic_info.groupby('genres')['genres'].count()\n",
    "genres = genres.sort_values(ascending=False)\n",
    "print(genres.head(10))"
   ]
  },
  {
   "cell_type": "code",
   "execution_count": 26,
   "metadata": {
    "colab": {
     "base_uri": "https://localhost:8080/"
    },
    "executionInfo": {
     "elapsed": 6,
     "status": "ok",
     "timestamp": 1727170703193,
     "user": {
      "displayName": "Antonny Muiko",
      "userId": "09124655826879237495"
     },
     "user_tz": -180
    },
    "id": "0MTRLcMGXvas",
    "outputId": "dfae4fd3-4295-4f81-d620-faba75c21678"
   },
   "outputs": [
    {
     "name": "stdout",
     "output_type": "stream",
     "text": [
      "genres\n",
      "Fantasy,Romance,War            1\n",
      "Adventure,Film-Noir,Mystery    1\n",
      "Adventure,Film-Noir,Romance    1\n",
      "Fantasy,Reality-TV,Sport       1\n",
      "Action,Fantasy,Reality-TV      1\n",
      "Fantasy,Reality-TV,Sci-Fi      1\n",
      "Adventure,Game-Show,Sci-Fi     1\n",
      "Fantasy,Reality-TV,Romance     1\n",
      "Music,Reality-TV,Romance       1\n",
      "Fantasy,Thriller,Western       1\n",
      "Name: genres, dtype: int64\n"
     ]
    }
   ],
   "source": [
    "print(genres.tail(10))"
   ]
  },
  {
   "cell_type": "code",
   "execution_count": 27,
   "metadata": {
    "colab": {
     "base_uri": "https://localhost:8080/",
     "height": 460
    },
    "executionInfo": {
     "elapsed": 1224,
     "status": "ok",
     "timestamp": 1727170704413,
     "user": {
      "displayName": "Antonny Muiko",
      "userId": "09124655826879237495"
     },
     "user_tz": -180
    },
    "id": "FdxCyvX-Xvas",
    "outputId": "8fcc4564-49e1-478e-a8d4-4b166e0910f0"
   },
   "outputs": [
    {
     "data": {
      "text/plain": [
       "titleType\n",
       "tvEpisode       8510105\n",
       "short           1018092\n",
       "movie            692552\n",
       "video            298373\n",
       "tvSeries         270396\n",
       "tvMovie          148503\n",
       "tvMiniSeries      56804\n",
       "tvSpecial         49456\n",
       "videoGame         39946\n",
       "tvShort           10414\n",
       "tvPilot               1\n",
       "Name: titleType, dtype: int64"
      ]
     },
     "execution_count": 27,
     "metadata": {},
     "output_type": "execute_result"
    }
   ],
   "source": [
    "title_type = basic_info.groupby('titleType')['titleType'].count()\n",
    "title_type.sort_values(ascending=False)"
   ]
  },
  {
   "cell_type": "markdown",
   "metadata": {
    "id": "XxGiytgZXvas"
   },
   "source": [
    "## Data Preparation"
   ]
  },
  {
   "cell_type": "markdown",
   "metadata": {
    "id": "s5a9-v9rXvat"
   },
   "source": [
    "### Missing values"
   ]
  },
  {
   "cell_type": "code",
   "execution_count": 28,
   "metadata": {
    "id": "2jH9LwKIXvat"
   },
   "outputs": [],
   "source": [
    "names.dropna(subset=['primaryName'], axis=0, inplace=True)"
   ]
  },
  {
   "cell_type": "code",
   "execution_count": 29,
   "metadata": {
    "id": "aXMXTcdYXvat"
   },
   "outputs": [],
   "source": [
    "basic_info.dropna(axis=0, inplace=True)"
   ]
  },
  {
   "cell_type": "markdown",
   "metadata": {
    "id": "uUWHoQTvXvat"
   },
   "source": [
    "## Content-based filtering"
   ]
  },
  {
   "cell_type": "code",
   "execution_count": 30,
   "metadata": {
    "id": "WeTIM43WXvat"
   },
   "outputs": [],
   "source": [
    "# filter out movies and series\n",
    "basics_filtered = basic_info[basic_info['titleType'].isin(['movie', 'tvSeries'])]"
   ]
  },
  {
   "cell_type": "code",
   "execution_count": 31,
   "metadata": {
    "id": "FSsdNbToXvau"
   },
   "outputs": [],
   "source": [
    "basics_filtered.reset_index(inplace=True, drop=True)"
   ]
  },
  {
   "cell_type": "code",
   "execution_count": 32,
   "metadata": {
    "colab": {
     "base_uri": "https://localhost:8080/",
     "height": 295
    },
    "executionInfo": {
     "elapsed": 16,
     "status": "ok",
     "timestamp": 1727170717305,
     "user": {
      "displayName": "Antonny Muiko",
      "userId": "09124655826879237495"
     },
     "user_tz": -180
    },
    "id": "hMP-wyXzXvau",
    "outputId": "4b5a003c-4260-4710-a1b2-21826a093095"
   },
   "outputs": [
    {
     "data": {
      "text/html": [
       "<div>\n",
       "<style scoped>\n",
       "    .dataframe tbody tr th:only-of-type {\n",
       "        vertical-align: middle;\n",
       "    }\n",
       "\n",
       "    .dataframe tbody tr th {\n",
       "        vertical-align: top;\n",
       "    }\n",
       "\n",
       "    .dataframe thead th {\n",
       "        text-align: right;\n",
       "    }\n",
       "</style>\n",
       "<table border=\"1\" class=\"dataframe\">\n",
       "  <thead>\n",
       "    <tr style=\"text-align: right;\">\n",
       "      <th></th>\n",
       "      <th>tconst</th>\n",
       "      <th>titleType</th>\n",
       "      <th>primaryTitle</th>\n",
       "      <th>originalTitle</th>\n",
       "      <th>isAdult</th>\n",
       "      <th>startYear</th>\n",
       "      <th>endYear</th>\n",
       "      <th>runtimeMinutes</th>\n",
       "      <th>genres</th>\n",
       "    </tr>\n",
       "  </thead>\n",
       "  <tbody>\n",
       "    <tr>\n",
       "      <th>0</th>\n",
       "      <td>tt0000009</td>\n",
       "      <td>movie</td>\n",
       "      <td>Miss Jerry</td>\n",
       "      <td>Miss Jerry</td>\n",
       "      <td>0</td>\n",
       "      <td>1894</td>\n",
       "      <td>\\N</td>\n",
       "      <td>45</td>\n",
       "      <td>Romance</td>\n",
       "    </tr>\n",
       "    <tr>\n",
       "      <th>1</th>\n",
       "      <td>tt0000147</td>\n",
       "      <td>movie</td>\n",
       "      <td>The Corbett-Fitzsimmons Fight</td>\n",
       "      <td>The Corbett-Fitzsimmons Fight</td>\n",
       "      <td>0</td>\n",
       "      <td>1897</td>\n",
       "      <td>\\N</td>\n",
       "      <td>100</td>\n",
       "      <td>Documentary,News,Sport</td>\n",
       "    </tr>\n",
       "    <tr>\n",
       "      <th>2</th>\n",
       "      <td>tt0000502</td>\n",
       "      <td>movie</td>\n",
       "      <td>Bohemios</td>\n",
       "      <td>Bohemios</td>\n",
       "      <td>0</td>\n",
       "      <td>1905</td>\n",
       "      <td>\\N</td>\n",
       "      <td>100</td>\n",
       "      <td>\\N</td>\n",
       "    </tr>\n",
       "    <tr>\n",
       "      <th>3</th>\n",
       "      <td>tt0000574</td>\n",
       "      <td>movie</td>\n",
       "      <td>The Story of the Kelly Gang</td>\n",
       "      <td>The Story of the Kelly Gang</td>\n",
       "      <td>0</td>\n",
       "      <td>1906</td>\n",
       "      <td>\\N</td>\n",
       "      <td>70</td>\n",
       "      <td>Action,Adventure,Biography</td>\n",
       "    </tr>\n",
       "    <tr>\n",
       "      <th>4</th>\n",
       "      <td>tt0000591</td>\n",
       "      <td>movie</td>\n",
       "      <td>The Prodigal Son</td>\n",
       "      <td>L'enfant prodigue</td>\n",
       "      <td>0</td>\n",
       "      <td>1907</td>\n",
       "      <td>\\N</td>\n",
       "      <td>90</td>\n",
       "      <td>Drama</td>\n",
       "    </tr>\n",
       "  </tbody>\n",
       "</table>\n",
       "</div>"
      ],
      "text/plain": [
       "      tconst titleType                   primaryTitle  \\\n",
       "0  tt0000009     movie                     Miss Jerry   \n",
       "1  tt0000147     movie  The Corbett-Fitzsimmons Fight   \n",
       "2  tt0000502     movie                       Bohemios   \n",
       "3  tt0000574     movie    The Story of the Kelly Gang   \n",
       "4  tt0000591     movie               The Prodigal Son   \n",
       "\n",
       "                   originalTitle isAdult startYear endYear runtimeMinutes  \\\n",
       "0                     Miss Jerry       0      1894      \\N             45   \n",
       "1  The Corbett-Fitzsimmons Fight       0      1897      \\N            100   \n",
       "2                       Bohemios       0      1905      \\N            100   \n",
       "3    The Story of the Kelly Gang       0      1906      \\N             70   \n",
       "4              L'enfant prodigue       0      1907      \\N             90   \n",
       "\n",
       "                       genres  \n",
       "0                     Romance  \n",
       "1      Documentary,News,Sport  \n",
       "2                          \\N  \n",
       "3  Action,Adventure,Biography  \n",
       "4                       Drama  "
      ]
     },
     "execution_count": 32,
     "metadata": {},
     "output_type": "execute_result"
    }
   ],
   "source": [
    "basics_filtered.head()"
   ]
  },
  {
   "cell_type": "code",
   "execution_count": 33,
   "metadata": {
    "colab": {
     "base_uri": "https://localhost:8080/"
    },
    "executionInfo": {
     "elapsed": 14,
     "status": "ok",
     "timestamp": 1727170717305,
     "user": {
      "displayName": "Antonny Muiko",
      "userId": "09124655826879237495"
     },
     "user_tz": -180
    },
    "id": "MuCyXz3kXvau",
    "outputId": "4b7fc806-b5c5-4a42-f7e9-1fde695deca5"
   },
   "outputs": [
    {
     "data": {
      "text/plain": [
       "(962948, 9)"
      ]
     },
     "execution_count": 33,
     "metadata": {},
     "output_type": "execute_result"
    }
   ],
   "source": [
    "basics_filtered.shape"
   ]
  },
  {
   "cell_type": "code",
   "execution_count": 34,
   "metadata": {
    "id": "uRCpH-MtXvau"
   },
   "outputs": [
    {
     "name": "stderr",
     "output_type": "stream",
     "text": [
      "c:\\Users\\user\\anaconda3\\envs\\learn-env\\lib\\site-packages\\pandas\\core\\indexing.py:1783: SettingWithCopyWarning: \n",
      "A value is trying to be set on a copy of a slice from a DataFrame.\n",
      "Try using .loc[row_indexer,col_indexer] = value instead\n",
      "\n",
      "See the caveats in the documentation: https://pandas.pydata.org/pandas-docs/stable/user_guide/indexing.html#returning-a-view-versus-a-copy\n",
      "  self.obj[item_labels[indexer[info_axis]]] = value\n"
     ]
    }
   ],
   "source": [
    "# split genres into a list\n",
    "basics_filtered.loc[:, 'genres'] = basics_filtered.loc[:, 'genres'].apply(lambda x: x.split(','))"
   ]
  },
  {
   "cell_type": "code",
   "execution_count": 35,
   "metadata": {},
   "outputs": [
    {
     "data": {
      "text/html": [
       "<div>\n",
       "<style scoped>\n",
       "    .dataframe tbody tr th:only-of-type {\n",
       "        vertical-align: middle;\n",
       "    }\n",
       "\n",
       "    .dataframe tbody tr th {\n",
       "        vertical-align: top;\n",
       "    }\n",
       "\n",
       "    .dataframe thead th {\n",
       "        text-align: right;\n",
       "    }\n",
       "</style>\n",
       "<table border=\"1\" class=\"dataframe\">\n",
       "  <thead>\n",
       "    <tr style=\"text-align: right;\">\n",
       "      <th></th>\n",
       "      <th>tconst</th>\n",
       "      <th>titleType</th>\n",
       "      <th>primaryTitle</th>\n",
       "      <th>originalTitle</th>\n",
       "      <th>isAdult</th>\n",
       "      <th>startYear</th>\n",
       "      <th>endYear</th>\n",
       "      <th>runtimeMinutes</th>\n",
       "      <th>genres</th>\n",
       "    </tr>\n",
       "  </thead>\n",
       "  <tbody>\n",
       "    <tr>\n",
       "      <th>0</th>\n",
       "      <td>tt0000009</td>\n",
       "      <td>movie</td>\n",
       "      <td>Miss Jerry</td>\n",
       "      <td>Miss Jerry</td>\n",
       "      <td>0</td>\n",
       "      <td>1894</td>\n",
       "      <td>\\N</td>\n",
       "      <td>45</td>\n",
       "      <td>[Romance]</td>\n",
       "    </tr>\n",
       "    <tr>\n",
       "      <th>1</th>\n",
       "      <td>tt0000147</td>\n",
       "      <td>movie</td>\n",
       "      <td>The Corbett-Fitzsimmons Fight</td>\n",
       "      <td>The Corbett-Fitzsimmons Fight</td>\n",
       "      <td>0</td>\n",
       "      <td>1897</td>\n",
       "      <td>\\N</td>\n",
       "      <td>100</td>\n",
       "      <td>[Documentary, News, Sport]</td>\n",
       "    </tr>\n",
       "    <tr>\n",
       "      <th>2</th>\n",
       "      <td>tt0000502</td>\n",
       "      <td>movie</td>\n",
       "      <td>Bohemios</td>\n",
       "      <td>Bohemios</td>\n",
       "      <td>0</td>\n",
       "      <td>1905</td>\n",
       "      <td>\\N</td>\n",
       "      <td>100</td>\n",
       "      <td>[\\N]</td>\n",
       "    </tr>\n",
       "    <tr>\n",
       "      <th>3</th>\n",
       "      <td>tt0000574</td>\n",
       "      <td>movie</td>\n",
       "      <td>The Story of the Kelly Gang</td>\n",
       "      <td>The Story of the Kelly Gang</td>\n",
       "      <td>0</td>\n",
       "      <td>1906</td>\n",
       "      <td>\\N</td>\n",
       "      <td>70</td>\n",
       "      <td>[Action, Adventure, Biography]</td>\n",
       "    </tr>\n",
       "    <tr>\n",
       "      <th>4</th>\n",
       "      <td>tt0000591</td>\n",
       "      <td>movie</td>\n",
       "      <td>The Prodigal Son</td>\n",
       "      <td>L'enfant prodigue</td>\n",
       "      <td>0</td>\n",
       "      <td>1907</td>\n",
       "      <td>\\N</td>\n",
       "      <td>90</td>\n",
       "      <td>[Drama]</td>\n",
       "    </tr>\n",
       "  </tbody>\n",
       "</table>\n",
       "</div>"
      ],
      "text/plain": [
       "      tconst titleType                   primaryTitle  \\\n",
       "0  tt0000009     movie                     Miss Jerry   \n",
       "1  tt0000147     movie  The Corbett-Fitzsimmons Fight   \n",
       "2  tt0000502     movie                       Bohemios   \n",
       "3  tt0000574     movie    The Story of the Kelly Gang   \n",
       "4  tt0000591     movie               The Prodigal Son   \n",
       "\n",
       "                   originalTitle isAdult startYear endYear runtimeMinutes  \\\n",
       "0                     Miss Jerry       0      1894      \\N             45   \n",
       "1  The Corbett-Fitzsimmons Fight       0      1897      \\N            100   \n",
       "2                       Bohemios       0      1905      \\N            100   \n",
       "3    The Story of the Kelly Gang       0      1906      \\N             70   \n",
       "4              L'enfant prodigue       0      1907      \\N             90   \n",
       "\n",
       "                           genres  \n",
       "0                       [Romance]  \n",
       "1      [Documentary, News, Sport]  \n",
       "2                            [\\N]  \n",
       "3  [Action, Adventure, Biography]  \n",
       "4                         [Drama]  "
      ]
     },
     "execution_count": 35,
     "metadata": {},
     "output_type": "execute_result"
    }
   ],
   "source": [
    "# confirm whether above method worked\n",
    "basics_filtered.head()"
   ]
  },
  {
   "cell_type": "code",
   "execution_count": 36,
   "metadata": {
    "id": "jCSL-EkhXvau"
   },
   "outputs": [],
   "source": [
    "# Drop rows where genres is empty\n",
    "basics_filtered = basics_filtered[basics_filtered['genres'].apply(lambda x: x != ['\\\\N'])]\n",
    "\n",
    "basics_filtered.reset_index(drop=True, inplace=True)"
   ]
  },
  {
   "cell_type": "code",
   "execution_count": 37,
   "metadata": {},
   "outputs": [
    {
     "data": {
      "text/html": [
       "<div>\n",
       "<style scoped>\n",
       "    .dataframe tbody tr th:only-of-type {\n",
       "        vertical-align: middle;\n",
       "    }\n",
       "\n",
       "    .dataframe tbody tr th {\n",
       "        vertical-align: top;\n",
       "    }\n",
       "\n",
       "    .dataframe thead th {\n",
       "        text-align: right;\n",
       "    }\n",
       "</style>\n",
       "<table border=\"1\" class=\"dataframe\">\n",
       "  <thead>\n",
       "    <tr style=\"text-align: right;\">\n",
       "      <th></th>\n",
       "      <th>tconst</th>\n",
       "      <th>titleType</th>\n",
       "      <th>primaryTitle</th>\n",
       "      <th>originalTitle</th>\n",
       "      <th>isAdult</th>\n",
       "      <th>startYear</th>\n",
       "      <th>endYear</th>\n",
       "      <th>runtimeMinutes</th>\n",
       "      <th>genres</th>\n",
       "    </tr>\n",
       "  </thead>\n",
       "  <tbody>\n",
       "    <tr>\n",
       "      <th>0</th>\n",
       "      <td>tt0000009</td>\n",
       "      <td>movie</td>\n",
       "      <td>Miss Jerry</td>\n",
       "      <td>Miss Jerry</td>\n",
       "      <td>0</td>\n",
       "      <td>1894</td>\n",
       "      <td>\\N</td>\n",
       "      <td>45</td>\n",
       "      <td>[Romance]</td>\n",
       "    </tr>\n",
       "    <tr>\n",
       "      <th>1</th>\n",
       "      <td>tt0000147</td>\n",
       "      <td>movie</td>\n",
       "      <td>The Corbett-Fitzsimmons Fight</td>\n",
       "      <td>The Corbett-Fitzsimmons Fight</td>\n",
       "      <td>0</td>\n",
       "      <td>1897</td>\n",
       "      <td>\\N</td>\n",
       "      <td>100</td>\n",
       "      <td>[Documentary, News, Sport]</td>\n",
       "    </tr>\n",
       "    <tr>\n",
       "      <th>2</th>\n",
       "      <td>tt0000574</td>\n",
       "      <td>movie</td>\n",
       "      <td>The Story of the Kelly Gang</td>\n",
       "      <td>The Story of the Kelly Gang</td>\n",
       "      <td>0</td>\n",
       "      <td>1906</td>\n",
       "      <td>\\N</td>\n",
       "      <td>70</td>\n",
       "      <td>[Action, Adventure, Biography]</td>\n",
       "    </tr>\n",
       "    <tr>\n",
       "      <th>3</th>\n",
       "      <td>tt0000591</td>\n",
       "      <td>movie</td>\n",
       "      <td>The Prodigal Son</td>\n",
       "      <td>L'enfant prodigue</td>\n",
       "      <td>0</td>\n",
       "      <td>1907</td>\n",
       "      <td>\\N</td>\n",
       "      <td>90</td>\n",
       "      <td>[Drama]</td>\n",
       "    </tr>\n",
       "    <tr>\n",
       "      <th>4</th>\n",
       "      <td>tt0000615</td>\n",
       "      <td>movie</td>\n",
       "      <td>Robbery Under Arms</td>\n",
       "      <td>Robbery Under Arms</td>\n",
       "      <td>0</td>\n",
       "      <td>1907</td>\n",
       "      <td>\\N</td>\n",
       "      <td>\\N</td>\n",
       "      <td>[Drama]</td>\n",
       "    </tr>\n",
       "  </tbody>\n",
       "</table>\n",
       "</div>"
      ],
      "text/plain": [
       "      tconst titleType                   primaryTitle  \\\n",
       "0  tt0000009     movie                     Miss Jerry   \n",
       "1  tt0000147     movie  The Corbett-Fitzsimmons Fight   \n",
       "2  tt0000574     movie    The Story of the Kelly Gang   \n",
       "3  tt0000591     movie               The Prodigal Son   \n",
       "4  tt0000615     movie             Robbery Under Arms   \n",
       "\n",
       "                   originalTitle isAdult startYear endYear runtimeMinutes  \\\n",
       "0                     Miss Jerry       0      1894      \\N             45   \n",
       "1  The Corbett-Fitzsimmons Fight       0      1897      \\N            100   \n",
       "2    The Story of the Kelly Gang       0      1906      \\N             70   \n",
       "3              L'enfant prodigue       0      1907      \\N             90   \n",
       "4             Robbery Under Arms       0      1907      \\N             \\N   \n",
       "\n",
       "                           genres  \n",
       "0                       [Romance]  \n",
       "1      [Documentary, News, Sport]  \n",
       "2  [Action, Adventure, Biography]  \n",
       "3                         [Drama]  \n",
       "4                         [Drama]  "
      ]
     },
     "execution_count": 37,
     "metadata": {},
     "output_type": "execute_result"
    }
   ],
   "source": [
    "# confirm whether above method worked\n",
    "basics_filtered.head()"
   ]
  },
  {
   "cell_type": "code",
   "execution_count": 38,
   "metadata": {
    "id": "Q6Gkct2qXvav"
   },
   "outputs": [],
   "source": [
    "basics_filtered = basics_filtered.drop(['originalTitle', 'endYear'], axis=1)"
   ]
  },
  {
   "cell_type": "code",
   "execution_count": 39,
   "metadata": {
    "colab": {
     "base_uri": "https://localhost:8080/",
     "height": 241
    },
    "executionInfo": {
     "elapsed": 11,
     "status": "ok",
     "timestamp": 1727170719703,
     "user": {
      "displayName": "Antonny Muiko",
      "userId": "09124655826879237495"
     },
     "user_tz": -180
    },
    "id": "Q2idXNZOXvav",
    "outputId": "24383dfc-5d2c-4022-e3d1-98cc5861eafc"
   },
   "outputs": [
    {
     "data": {
      "text/html": [
       "<div>\n",
       "<style scoped>\n",
       "    .dataframe tbody tr th:only-of-type {\n",
       "        vertical-align: middle;\n",
       "    }\n",
       "\n",
       "    .dataframe tbody tr th {\n",
       "        vertical-align: top;\n",
       "    }\n",
       "\n",
       "    .dataframe thead th {\n",
       "        text-align: right;\n",
       "    }\n",
       "</style>\n",
       "<table border=\"1\" class=\"dataframe\">\n",
       "  <thead>\n",
       "    <tr style=\"text-align: right;\">\n",
       "      <th></th>\n",
       "      <th>tconst</th>\n",
       "      <th>titleType</th>\n",
       "      <th>primaryTitle</th>\n",
       "      <th>isAdult</th>\n",
       "      <th>startYear</th>\n",
       "      <th>runtimeMinutes</th>\n",
       "      <th>genres</th>\n",
       "    </tr>\n",
       "  </thead>\n",
       "  <tbody>\n",
       "    <tr>\n",
       "      <th>0</th>\n",
       "      <td>tt0000009</td>\n",
       "      <td>movie</td>\n",
       "      <td>Miss Jerry</td>\n",
       "      <td>0</td>\n",
       "      <td>1894</td>\n",
       "      <td>45</td>\n",
       "      <td>[Romance]</td>\n",
       "    </tr>\n",
       "    <tr>\n",
       "      <th>1</th>\n",
       "      <td>tt0000147</td>\n",
       "      <td>movie</td>\n",
       "      <td>The Corbett-Fitzsimmons Fight</td>\n",
       "      <td>0</td>\n",
       "      <td>1897</td>\n",
       "      <td>100</td>\n",
       "      <td>[Documentary, News, Sport]</td>\n",
       "    </tr>\n",
       "    <tr>\n",
       "      <th>2</th>\n",
       "      <td>tt0000574</td>\n",
       "      <td>movie</td>\n",
       "      <td>The Story of the Kelly Gang</td>\n",
       "      <td>0</td>\n",
       "      <td>1906</td>\n",
       "      <td>70</td>\n",
       "      <td>[Action, Adventure, Biography]</td>\n",
       "    </tr>\n",
       "    <tr>\n",
       "      <th>3</th>\n",
       "      <td>tt0000591</td>\n",
       "      <td>movie</td>\n",
       "      <td>The Prodigal Son</td>\n",
       "      <td>0</td>\n",
       "      <td>1907</td>\n",
       "      <td>90</td>\n",
       "      <td>[Drama]</td>\n",
       "    </tr>\n",
       "    <tr>\n",
       "      <th>4</th>\n",
       "      <td>tt0000615</td>\n",
       "      <td>movie</td>\n",
       "      <td>Robbery Under Arms</td>\n",
       "      <td>0</td>\n",
       "      <td>1907</td>\n",
       "      <td>\\N</td>\n",
       "      <td>[Drama]</td>\n",
       "    </tr>\n",
       "  </tbody>\n",
       "</table>\n",
       "</div>"
      ],
      "text/plain": [
       "      tconst titleType                   primaryTitle isAdult startYear  \\\n",
       "0  tt0000009     movie                     Miss Jerry       0      1894   \n",
       "1  tt0000147     movie  The Corbett-Fitzsimmons Fight       0      1897   \n",
       "2  tt0000574     movie    The Story of the Kelly Gang       0      1906   \n",
       "3  tt0000591     movie               The Prodigal Son       0      1907   \n",
       "4  tt0000615     movie             Robbery Under Arms       0      1907   \n",
       "\n",
       "  runtimeMinutes                          genres  \n",
       "0             45                       [Romance]  \n",
       "1            100      [Documentary, News, Sport]  \n",
       "2             70  [Action, Adventure, Biography]  \n",
       "3             90                         [Drama]  \n",
       "4             \\N                         [Drama]  "
      ]
     },
     "execution_count": 39,
     "metadata": {},
     "output_type": "execute_result"
    }
   ],
   "source": [
    "basics_filtered.head()"
   ]
  },
  {
   "cell_type": "code",
   "execution_count": 40,
   "metadata": {
    "id": "MmU0QVJuXva1"
   },
   "outputs": [],
   "source": [
    "merged_df = pd.merge(basics_filtered, ratings, on='tconst', how='inner')"
   ]
  },
  {
   "cell_type": "code",
   "execution_count": 41,
   "metadata": {
    "id": "SpUnVcPbZgfL"
   },
   "outputs": [],
   "source": [
    "# save the merged dataframe\n",
    "merged_df.to_csv('../Data/merged_df.csv', index=False)"
   ]
  },
  {
   "cell_type": "code",
   "execution_count": 42,
   "metadata": {
    "colab": {
     "base_uri": "https://localhost:8080/"
    },
    "executionInfo": {
     "elapsed": 4076,
     "status": "ok",
     "timestamp": 1727174138588,
     "user": {
      "displayName": "Antonny Muiko",
      "userId": "09124655826879237495"
     },
     "user_tz": -180
    },
    "id": "VnzJiU0nZrNN",
    "outputId": "71d0a9c3-2838-4399-d72a-b0143d63bb78"
   },
   "outputs": [
    {
     "name": "stderr",
     "output_type": "stream",
     "text": [
      "c:\\Users\\user\\anaconda3\\envs\\learn-env\\lib\\site-packages\\IPython\\core\\interactiveshell.py:3194: DtypeWarning: Columns (4) have mixed types.Specify dtype option on import or set low_memory=False.\n",
      "  has_raised = await self.run_ast_nodes(code_ast.body, cell_name,\n"
     ]
    }
   ],
   "source": [
    "# load the saved data\n",
    "merged_df = pd.read_csv('../Data/merged_df.csv')"
   ]
  },
  {
   "cell_type": "code",
   "execution_count": 43,
   "metadata": {
    "colab": {
     "base_uri": "https://localhost:8080/",
     "height": 330
    },
    "executionInfo": {
     "elapsed": 21,
     "status": "ok",
     "timestamp": 1727174138589,
     "user": {
      "displayName": "Antonny Muiko",
      "userId": "09124655826879237495"
     },
     "user_tz": -180
    },
    "id": "pmdGNLfwXva1",
    "outputId": "1c02a611-ebc0-4233-ee71-a1e33e2d9fd0"
   },
   "outputs": [
    {
     "data": {
      "text/html": [
       "<div>\n",
       "<style scoped>\n",
       "    .dataframe tbody tr th:only-of-type {\n",
       "        vertical-align: middle;\n",
       "    }\n",
       "\n",
       "    .dataframe tbody tr th {\n",
       "        vertical-align: top;\n",
       "    }\n",
       "\n",
       "    .dataframe thead th {\n",
       "        text-align: right;\n",
       "    }\n",
       "</style>\n",
       "<table border=\"1\" class=\"dataframe\">\n",
       "  <thead>\n",
       "    <tr style=\"text-align: right;\">\n",
       "      <th></th>\n",
       "      <th>tconst</th>\n",
       "      <th>titleType</th>\n",
       "      <th>primaryTitle</th>\n",
       "      <th>isAdult</th>\n",
       "      <th>startYear</th>\n",
       "      <th>runtimeMinutes</th>\n",
       "      <th>genres</th>\n",
       "      <th>averageRating</th>\n",
       "      <th>numVotes</th>\n",
       "    </tr>\n",
       "  </thead>\n",
       "  <tbody>\n",
       "    <tr>\n",
       "      <th>0</th>\n",
       "      <td>tt0000009</td>\n",
       "      <td>movie</td>\n",
       "      <td>Miss Jerry</td>\n",
       "      <td>0</td>\n",
       "      <td>1894</td>\n",
       "      <td>45</td>\n",
       "      <td>['Romance']</td>\n",
       "      <td>5.4</td>\n",
       "      <td>214</td>\n",
       "    </tr>\n",
       "    <tr>\n",
       "      <th>1</th>\n",
       "      <td>tt0000147</td>\n",
       "      <td>movie</td>\n",
       "      <td>The Corbett-Fitzsimmons Fight</td>\n",
       "      <td>0</td>\n",
       "      <td>1897</td>\n",
       "      <td>100</td>\n",
       "      <td>['Documentary', 'News', 'Sport']</td>\n",
       "      <td>5.2</td>\n",
       "      <td>531</td>\n",
       "    </tr>\n",
       "    <tr>\n",
       "      <th>2</th>\n",
       "      <td>tt0000574</td>\n",
       "      <td>movie</td>\n",
       "      <td>The Story of the Kelly Gang</td>\n",
       "      <td>0</td>\n",
       "      <td>1906</td>\n",
       "      <td>70</td>\n",
       "      <td>['Action', 'Adventure', 'Biography']</td>\n",
       "      <td>6.0</td>\n",
       "      <td>928</td>\n",
       "    </tr>\n",
       "    <tr>\n",
       "      <th>3</th>\n",
       "      <td>tt0000591</td>\n",
       "      <td>movie</td>\n",
       "      <td>The Prodigal Son</td>\n",
       "      <td>0</td>\n",
       "      <td>1907</td>\n",
       "      <td>90</td>\n",
       "      <td>['Drama']</td>\n",
       "      <td>5.7</td>\n",
       "      <td>28</td>\n",
       "    </tr>\n",
       "    <tr>\n",
       "      <th>4</th>\n",
       "      <td>tt0000615</td>\n",
       "      <td>movie</td>\n",
       "      <td>Robbery Under Arms</td>\n",
       "      <td>0</td>\n",
       "      <td>1907</td>\n",
       "      <td>\\N</td>\n",
       "      <td>['Drama']</td>\n",
       "      <td>4.3</td>\n",
       "      <td>27</td>\n",
       "    </tr>\n",
       "  </tbody>\n",
       "</table>\n",
       "</div>"
      ],
      "text/plain": [
       "      tconst titleType                   primaryTitle  isAdult startYear  \\\n",
       "0  tt0000009     movie                     Miss Jerry        0      1894   \n",
       "1  tt0000147     movie  The Corbett-Fitzsimmons Fight        0      1897   \n",
       "2  tt0000574     movie    The Story of the Kelly Gang        0      1906   \n",
       "3  tt0000591     movie               The Prodigal Son        0      1907   \n",
       "4  tt0000615     movie             Robbery Under Arms        0      1907   \n",
       "\n",
       "  runtimeMinutes                                genres  averageRating  \\\n",
       "0             45                           ['Romance']            5.4   \n",
       "1            100      ['Documentary', 'News', 'Sport']            5.2   \n",
       "2             70  ['Action', 'Adventure', 'Biography']            6.0   \n",
       "3             90                             ['Drama']            5.7   \n",
       "4             \\N                             ['Drama']            4.3   \n",
       "\n",
       "   numVotes  \n",
       "0       214  \n",
       "1       531  \n",
       "2       928  \n",
       "3        28  \n",
       "4        27  "
      ]
     },
     "execution_count": 43,
     "metadata": {},
     "output_type": "execute_result"
    }
   ],
   "source": [
    "merged_df.head()"
   ]
  },
  {
   "cell_type": "code",
   "execution_count": 44,
   "metadata": {
    "colab": {
     "base_uri": "https://localhost:8080/"
    },
    "executionInfo": {
     "elapsed": 14,
     "status": "ok",
     "timestamp": 1727174138589,
     "user": {
      "displayName": "Antonny Muiko",
      "userId": "09124655826879237495"
     },
     "user_tz": -180
    },
    "id": "VWu3wF_wXva1",
    "outputId": "bf98def4-a5d5-48e0-d13d-7228fb974dd1"
   },
   "outputs": [
    {
     "data": {
      "text/plain": [
       "(400581, 9)"
      ]
     },
     "execution_count": 44,
     "metadata": {},
     "output_type": "execute_result"
    }
   ],
   "source": [
    "merged_df.shape"
   ]
  },
  {
   "cell_type": "code",
   "execution_count": 45,
   "metadata": {
    "colab": {
     "base_uri": "https://localhost:8080/"
    },
    "executionInfo": {
     "elapsed": 39,
     "status": "ok",
     "timestamp": 1727174139088,
     "user": {
      "displayName": "Antonny Muiko",
      "userId": "09124655826879237495"
     },
     "user_tz": -180
    },
    "id": "y2akvrwCXva2",
    "outputId": "c1ba5cd0-48ed-478d-ed34-aedcf5babe11"
   },
   "outputs": [
    {
     "data": {
      "text/plain": [
       "dtype('O')"
      ]
     },
     "execution_count": 45,
     "metadata": {},
     "output_type": "execute_result"
    }
   ],
   "source": [
    "merged_df['runtimeMinutes'].dtype"
   ]
  },
  {
   "cell_type": "code",
   "execution_count": 46,
   "metadata": {
    "colab": {
     "base_uri": "https://localhost:8080/",
     "height": 489
    },
    "executionInfo": {
     "elapsed": 33,
     "status": "ok",
     "timestamp": 1727174139088,
     "user": {
      "displayName": "Antonny Muiko",
      "userId": "09124655826879237495"
     },
     "user_tz": -180
    },
    "id": "yvr0IKHyXva2",
    "outputId": "3681fbb3-bc07-436c-f8cf-c4a53805035c"
   },
   "outputs": [
    {
     "data": {
      "text/plain": [
       "\\N       69619\n",
       "90       19415\n",
       "60       12498\n",
       "30       10955\n",
       "95        8667\n",
       "         ...  \n",
       "378          1\n",
       "2880         1\n",
       "990          1\n",
       "51420        1\n",
       "344          1\n",
       "Name: runtimeMinutes, Length: 583, dtype: int64"
      ]
     },
     "execution_count": 46,
     "metadata": {},
     "output_type": "execute_result"
    }
   ],
   "source": [
    "merged_df['runtimeMinutes'].value_counts()"
   ]
  },
  {
   "cell_type": "code",
   "execution_count": 47,
   "metadata": {
    "executionInfo": {
     "elapsed": 31,
     "status": "ok",
     "timestamp": 1727174139089,
     "user": {
      "displayName": "Antonny Muiko",
      "userId": "09124655826879237495"
     },
     "user_tz": -180
    },
    "id": "4YN7cdKkXva2"
   },
   "outputs": [],
   "source": [
    "merged_df_filtered = merged_df[merged_df['runtimeMinutes'] != '\\\\N']"
   ]
  },
  {
   "cell_type": "code",
   "execution_count": 48,
   "metadata": {
    "colab": {
     "base_uri": "https://localhost:8080/"
    },
    "executionInfo": {
     "elapsed": 30,
     "status": "ok",
     "timestamp": 1727174139089,
     "user": {
      "displayName": "Antonny Muiko",
      "userId": "09124655826879237495"
     },
     "user_tz": -180
    },
    "id": "bNHhzpZdXva2",
    "outputId": "5156f955-e8cb-42cf-ff97-cad0461fc8ed"
   },
   "outputs": [
    {
     "data": {
      "text/plain": [
       "(330962, 9)"
      ]
     },
     "execution_count": 48,
     "metadata": {},
     "output_type": "execute_result"
    }
   ],
   "source": [
    "merged_df_filtered.shape"
   ]
  },
  {
   "cell_type": "code",
   "execution_count": 49,
   "metadata": {
    "colab": {
     "base_uri": "https://localhost:8080/"
    },
    "executionInfo": {
     "elapsed": 25,
     "status": "ok",
     "timestamp": 1727174139089,
     "user": {
      "displayName": "Antonny Muiko",
      "userId": "09124655826879237495"
     },
     "user_tz": -180
    },
    "id": "VYapuScnXva2",
    "outputId": "9a0a4141-2ef4-4dcf-845c-8ade81c4a878"
   },
   "outputs": [
    {
     "name": "stderr",
     "output_type": "stream",
     "text": [
      "C:\\Users\\user\\AppData\\Local\\Temp\\ipykernel_10232\\598096314.py:1: SettingWithCopyWarning: \n",
      "A value is trying to be set on a copy of a slice from a DataFrame.\n",
      "Try using .loc[row_indexer,col_indexer] = value instead\n",
      "\n",
      "See the caveats in the documentation: https://pandas.pydata.org/pandas-docs/stable/user_guide/indexing.html#returning-a-view-versus-a-copy\n",
      "  merged_df_filtered['runtimeMinutes'] = merged_df_filtered['runtimeMinutes'].astype(int)\n"
     ]
    }
   ],
   "source": [
    "merged_df_filtered['runtimeMinutes'] = merged_df_filtered['runtimeMinutes'].astype(int)"
   ]
  },
  {
   "cell_type": "code",
   "execution_count": 50,
   "metadata": {
    "colab": {
     "base_uri": "https://localhost:8080/",
     "height": 366
    },
    "executionInfo": {
     "elapsed": 20,
     "status": "ok",
     "timestamp": 1727174139089,
     "user": {
      "displayName": "Antonny Muiko",
      "userId": "09124655826879237495"
     },
     "user_tz": -180
    },
    "id": "PlKNX-V2Xva3",
    "outputId": "11fc01a6-b048-4417-d0d5-defeb8011aba"
   },
   "outputs": [
    {
     "data": {
      "text/plain": [
       "tconst             object\n",
       "titleType          object\n",
       "primaryTitle       object\n",
       "isAdult             int64\n",
       "startYear          object\n",
       "runtimeMinutes      int32\n",
       "genres             object\n",
       "averageRating     float64\n",
       "numVotes            int64\n",
       "dtype: object"
      ]
     },
     "execution_count": 50,
     "metadata": {},
     "output_type": "execute_result"
    }
   ],
   "source": [
    "merged_df_filtered.dtypes"
   ]
  },
  {
   "cell_type": "code",
   "execution_count": 51,
   "metadata": {
    "executionInfo": {
     "elapsed": 17,
     "status": "ok",
     "timestamp": 1727174139089,
     "user": {
      "displayName": "Antonny Muiko",
      "userId": "09124655826879237495"
     },
     "user_tz": -180
    },
    "id": "Z3-BZ8MIXva3"
   },
   "outputs": [],
   "source": [
    "merged_df_filtered = merged_df_filtered.reset_index(drop='first')"
   ]
  },
  {
   "cell_type": "code",
   "execution_count": 52,
   "metadata": {},
   "outputs": [
    {
     "data": {
      "text/html": [
       "<div>\n",
       "<style scoped>\n",
       "    .dataframe tbody tr th:only-of-type {\n",
       "        vertical-align: middle;\n",
       "    }\n",
       "\n",
       "    .dataframe tbody tr th {\n",
       "        vertical-align: top;\n",
       "    }\n",
       "\n",
       "    .dataframe thead th {\n",
       "        text-align: right;\n",
       "    }\n",
       "</style>\n",
       "<table border=\"1\" class=\"dataframe\">\n",
       "  <thead>\n",
       "    <tr style=\"text-align: right;\">\n",
       "      <th></th>\n",
       "      <th>tconst</th>\n",
       "      <th>titleType</th>\n",
       "      <th>primaryTitle</th>\n",
       "      <th>isAdult</th>\n",
       "      <th>startYear</th>\n",
       "      <th>runtimeMinutes</th>\n",
       "      <th>genres</th>\n",
       "      <th>averageRating</th>\n",
       "      <th>numVotes</th>\n",
       "    </tr>\n",
       "  </thead>\n",
       "  <tbody>\n",
       "    <tr>\n",
       "      <th>0</th>\n",
       "      <td>tt0000009</td>\n",
       "      <td>movie</td>\n",
       "      <td>Miss Jerry</td>\n",
       "      <td>0</td>\n",
       "      <td>1894</td>\n",
       "      <td>45</td>\n",
       "      <td>['Romance']</td>\n",
       "      <td>5.4</td>\n",
       "      <td>214</td>\n",
       "    </tr>\n",
       "    <tr>\n",
       "      <th>1</th>\n",
       "      <td>tt0000147</td>\n",
       "      <td>movie</td>\n",
       "      <td>The Corbett-Fitzsimmons Fight</td>\n",
       "      <td>0</td>\n",
       "      <td>1897</td>\n",
       "      <td>100</td>\n",
       "      <td>['Documentary', 'News', 'Sport']</td>\n",
       "      <td>5.2</td>\n",
       "      <td>531</td>\n",
       "    </tr>\n",
       "    <tr>\n",
       "      <th>2</th>\n",
       "      <td>tt0000574</td>\n",
       "      <td>movie</td>\n",
       "      <td>The Story of the Kelly Gang</td>\n",
       "      <td>0</td>\n",
       "      <td>1906</td>\n",
       "      <td>70</td>\n",
       "      <td>['Action', 'Adventure', 'Biography']</td>\n",
       "      <td>6.0</td>\n",
       "      <td>928</td>\n",
       "    </tr>\n",
       "    <tr>\n",
       "      <th>3</th>\n",
       "      <td>tt0000591</td>\n",
       "      <td>movie</td>\n",
       "      <td>The Prodigal Son</td>\n",
       "      <td>0</td>\n",
       "      <td>1907</td>\n",
       "      <td>90</td>\n",
       "      <td>['Drama']</td>\n",
       "      <td>5.7</td>\n",
       "      <td>28</td>\n",
       "    </tr>\n",
       "    <tr>\n",
       "      <th>4</th>\n",
       "      <td>tt0000679</td>\n",
       "      <td>movie</td>\n",
       "      <td>The Fairylogue and Radio-Plays</td>\n",
       "      <td>0</td>\n",
       "      <td>1908</td>\n",
       "      <td>120</td>\n",
       "      <td>['Adventure', 'Fantasy']</td>\n",
       "      <td>5.3</td>\n",
       "      <td>74</td>\n",
       "    </tr>\n",
       "  </tbody>\n",
       "</table>\n",
       "</div>"
      ],
      "text/plain": [
       "      tconst titleType                    primaryTitle  isAdult startYear  \\\n",
       "0  tt0000009     movie                      Miss Jerry        0      1894   \n",
       "1  tt0000147     movie   The Corbett-Fitzsimmons Fight        0      1897   \n",
       "2  tt0000574     movie     The Story of the Kelly Gang        0      1906   \n",
       "3  tt0000591     movie                The Prodigal Son        0      1907   \n",
       "4  tt0000679     movie  The Fairylogue and Radio-Plays        0      1908   \n",
       "\n",
       "   runtimeMinutes                                genres  averageRating  \\\n",
       "0              45                           ['Romance']            5.4   \n",
       "1             100      ['Documentary', 'News', 'Sport']            5.2   \n",
       "2              70  ['Action', 'Adventure', 'Biography']            6.0   \n",
       "3              90                             ['Drama']            5.7   \n",
       "4             120              ['Adventure', 'Fantasy']            5.3   \n",
       "\n",
       "   numVotes  \n",
       "0       214  \n",
       "1       531  \n",
       "2       928  \n",
       "3        28  \n",
       "4        74  "
      ]
     },
     "execution_count": 52,
     "metadata": {},
     "output_type": "execute_result"
    }
   ],
   "source": [
    "merged_df_filtered.head()"
   ]
  },
  {
   "cell_type": "code",
   "execution_count": 53,
   "metadata": {
    "colab": {
     "base_uri": "https://localhost:8080/"
    },
    "executionInfo": {
     "elapsed": 16,
     "status": "ok",
     "timestamp": 1727174139089,
     "user": {
      "displayName": "Antonny Muiko",
      "userId": "09124655826879237495"
     },
     "user_tz": -180
    },
    "id": "9BI8fnHTXva3",
    "outputId": "a8145331-1bca-4d8e-85b6-f25a158ac6e0"
   },
   "outputs": [
    {
     "data": {
      "text/plain": [
       "(330962, 9)"
      ]
     },
     "execution_count": 53,
     "metadata": {},
     "output_type": "execute_result"
    }
   ],
   "source": [
    "merged_df_filtered.shape"
   ]
  },
  {
   "cell_type": "code",
   "execution_count": 54,
   "metadata": {
    "executionInfo": {
     "elapsed": 14,
     "status": "ok",
     "timestamp": 1727174139513,
     "user": {
      "displayName": "Antonny Muiko",
      "userId": "09124655826879237495"
     },
     "user_tz": -180
    },
    "id": "Qy8XSoHjXva3"
   },
   "outputs": [],
   "source": [
    "bins = [0, 30, 90, 150, float('inf')]\n",
    "labels = ['short', 'Medium', 'Long', 'Very Long']\n",
    "\n",
    "merged_df_filtered['runtimeCategory'] = pd.cut(merged_df_filtered['runtimeMinutes'], bins = bins, labels = labels, right = False)"
   ]
  },
  {
   "cell_type": "code",
   "execution_count": 55,
   "metadata": {},
   "outputs": [
    {
     "data": {
      "text/plain": [
       "['bad', 'good', 'medium', 'medium', 'good', 'bad']\n",
       "Categories (3, object): ['bad' < 'medium' < 'good']"
      ]
     },
     "execution_count": 55,
     "metadata": {},
     "output_type": "execute_result"
    }
   ],
   "source": [
    "# An example to showcase pandas.cut method\n",
    "pd.cut(np.array([1, 7, 5, 4, 6, 3]),\n",
    "       3, labels=[\"bad\", \"medium\", \"good\"])"
   ]
  },
  {
   "cell_type": "code",
   "execution_count": 56,
   "metadata": {
    "colab": {
     "base_uri": "https://localhost:8080/",
     "height": 347
    },
    "executionInfo": {
     "elapsed": 14,
     "status": "ok",
     "timestamp": 1727174139514,
     "user": {
      "displayName": "Antonny Muiko",
      "userId": "09124655826879237495"
     },
     "user_tz": -180
    },
    "id": "r9tMTQtwXva3",
    "outputId": "354d9b0b-2ce7-4cc3-d6c4-f8ad2d8a65b7"
   },
   "outputs": [
    {
     "data": {
      "text/html": [
       "<div>\n",
       "<style scoped>\n",
       "    .dataframe tbody tr th:only-of-type {\n",
       "        vertical-align: middle;\n",
       "    }\n",
       "\n",
       "    .dataframe tbody tr th {\n",
       "        vertical-align: top;\n",
       "    }\n",
       "\n",
       "    .dataframe thead th {\n",
       "        text-align: right;\n",
       "    }\n",
       "</style>\n",
       "<table border=\"1\" class=\"dataframe\">\n",
       "  <thead>\n",
       "    <tr style=\"text-align: right;\">\n",
       "      <th></th>\n",
       "      <th>tconst</th>\n",
       "      <th>titleType</th>\n",
       "      <th>primaryTitle</th>\n",
       "      <th>isAdult</th>\n",
       "      <th>startYear</th>\n",
       "      <th>runtimeMinutes</th>\n",
       "      <th>genres</th>\n",
       "      <th>averageRating</th>\n",
       "      <th>numVotes</th>\n",
       "      <th>runtimeCategory</th>\n",
       "    </tr>\n",
       "  </thead>\n",
       "  <tbody>\n",
       "    <tr>\n",
       "      <th>0</th>\n",
       "      <td>tt0000009</td>\n",
       "      <td>movie</td>\n",
       "      <td>Miss Jerry</td>\n",
       "      <td>0</td>\n",
       "      <td>1894</td>\n",
       "      <td>45</td>\n",
       "      <td>['Romance']</td>\n",
       "      <td>5.4</td>\n",
       "      <td>214</td>\n",
       "      <td>Medium</td>\n",
       "    </tr>\n",
       "    <tr>\n",
       "      <th>1</th>\n",
       "      <td>tt0000147</td>\n",
       "      <td>movie</td>\n",
       "      <td>The Corbett-Fitzsimmons Fight</td>\n",
       "      <td>0</td>\n",
       "      <td>1897</td>\n",
       "      <td>100</td>\n",
       "      <td>['Documentary', 'News', 'Sport']</td>\n",
       "      <td>5.2</td>\n",
       "      <td>531</td>\n",
       "      <td>Long</td>\n",
       "    </tr>\n",
       "    <tr>\n",
       "      <th>2</th>\n",
       "      <td>tt0000574</td>\n",
       "      <td>movie</td>\n",
       "      <td>The Story of the Kelly Gang</td>\n",
       "      <td>0</td>\n",
       "      <td>1906</td>\n",
       "      <td>70</td>\n",
       "      <td>['Action', 'Adventure', 'Biography']</td>\n",
       "      <td>6.0</td>\n",
       "      <td>928</td>\n",
       "      <td>Medium</td>\n",
       "    </tr>\n",
       "    <tr>\n",
       "      <th>3</th>\n",
       "      <td>tt0000591</td>\n",
       "      <td>movie</td>\n",
       "      <td>The Prodigal Son</td>\n",
       "      <td>0</td>\n",
       "      <td>1907</td>\n",
       "      <td>90</td>\n",
       "      <td>['Drama']</td>\n",
       "      <td>5.7</td>\n",
       "      <td>28</td>\n",
       "      <td>Long</td>\n",
       "    </tr>\n",
       "    <tr>\n",
       "      <th>4</th>\n",
       "      <td>tt0000679</td>\n",
       "      <td>movie</td>\n",
       "      <td>The Fairylogue and Radio-Plays</td>\n",
       "      <td>0</td>\n",
       "      <td>1908</td>\n",
       "      <td>120</td>\n",
       "      <td>['Adventure', 'Fantasy']</td>\n",
       "      <td>5.3</td>\n",
       "      <td>74</td>\n",
       "      <td>Long</td>\n",
       "    </tr>\n",
       "  </tbody>\n",
       "</table>\n",
       "</div>"
      ],
      "text/plain": [
       "      tconst titleType                    primaryTitle  isAdult startYear  \\\n",
       "0  tt0000009     movie                      Miss Jerry        0      1894   \n",
       "1  tt0000147     movie   The Corbett-Fitzsimmons Fight        0      1897   \n",
       "2  tt0000574     movie     The Story of the Kelly Gang        0      1906   \n",
       "3  tt0000591     movie                The Prodigal Son        0      1907   \n",
       "4  tt0000679     movie  The Fairylogue and Radio-Plays        0      1908   \n",
       "\n",
       "   runtimeMinutes                                genres  averageRating  \\\n",
       "0              45                           ['Romance']            5.4   \n",
       "1             100      ['Documentary', 'News', 'Sport']            5.2   \n",
       "2              70  ['Action', 'Adventure', 'Biography']            6.0   \n",
       "3              90                             ['Drama']            5.7   \n",
       "4             120              ['Adventure', 'Fantasy']            5.3   \n",
       "\n",
       "   numVotes runtimeCategory  \n",
       "0       214          Medium  \n",
       "1       531            Long  \n",
       "2       928          Medium  \n",
       "3        28            Long  \n",
       "4        74            Long  "
      ]
     },
     "execution_count": 56,
     "metadata": {},
     "output_type": "execute_result"
    }
   ],
   "source": [
    "merged_df_filtered.head()"
   ]
  },
  {
   "cell_type": "code",
   "execution_count": 57,
   "metadata": {
    "executionInfo": {
     "elapsed": 12,
     "status": "ok",
     "timestamp": 1727174139514,
     "user": {
      "displayName": "Antonny Muiko",
      "userId": "09124655826879237495"
     },
     "user_tz": -180
    },
    "id": "w6kqcq_xdOIE"
   },
   "outputs": [],
   "source": [
    "merged_df_filtered = merged_df_filtered.sample(n=20000, random_state=42)"
   ]
  },
  {
   "cell_type": "code",
   "execution_count": 58,
   "metadata": {},
   "outputs": [
    {
     "data": {
      "text/html": [
       "<div>\n",
       "<style scoped>\n",
       "    .dataframe tbody tr th:only-of-type {\n",
       "        vertical-align: middle;\n",
       "    }\n",
       "\n",
       "    .dataframe tbody tr th {\n",
       "        vertical-align: top;\n",
       "    }\n",
       "\n",
       "    .dataframe thead th {\n",
       "        text-align: right;\n",
       "    }\n",
       "</style>\n",
       "<table border=\"1\" class=\"dataframe\">\n",
       "  <thead>\n",
       "    <tr style=\"text-align: right;\">\n",
       "      <th></th>\n",
       "      <th>tconst</th>\n",
       "      <th>titleType</th>\n",
       "      <th>primaryTitle</th>\n",
       "      <th>isAdult</th>\n",
       "      <th>startYear</th>\n",
       "      <th>runtimeMinutes</th>\n",
       "      <th>genres</th>\n",
       "      <th>averageRating</th>\n",
       "      <th>numVotes</th>\n",
       "      <th>runtimeCategory</th>\n",
       "    </tr>\n",
       "  </thead>\n",
       "  <tbody>\n",
       "    <tr>\n",
       "      <th>13750</th>\n",
       "      <td>tt0036533</td>\n",
       "      <td>movie</td>\n",
       "      <td>Whistling in Brooklyn</td>\n",
       "      <td>0</td>\n",
       "      <td>1943</td>\n",
       "      <td>87</td>\n",
       "      <td>['Action', 'Comedy', 'Crime']</td>\n",
       "      <td>6.7</td>\n",
       "      <td>735</td>\n",
       "      <td>Medium</td>\n",
       "    </tr>\n",
       "    <tr>\n",
       "      <th>48000</th>\n",
       "      <td>tt0085155</td>\n",
       "      <td>movie</td>\n",
       "      <td>Amada</td>\n",
       "      <td>0</td>\n",
       "      <td>1983</td>\n",
       "      <td>105</td>\n",
       "      <td>['Drama']</td>\n",
       "      <td>5.8</td>\n",
       "      <td>38</td>\n",
       "      <td>Long</td>\n",
       "    </tr>\n",
       "    <tr>\n",
       "      <th>305618</th>\n",
       "      <td>tt6722202</td>\n",
       "      <td>movie</td>\n",
       "      <td>Guzbay New York</td>\n",
       "      <td>0</td>\n",
       "      <td>2019</td>\n",
       "      <td>90</td>\n",
       "      <td>['Comedy', 'Drama', 'Romance']</td>\n",
       "      <td>6.7</td>\n",
       "      <td>13</td>\n",
       "      <td>Long</td>\n",
       "    </tr>\n",
       "    <tr>\n",
       "      <th>253863</th>\n",
       "      <td>tt29038265</td>\n",
       "      <td>movie</td>\n",
       "      <td>Pasar Setan</td>\n",
       "      <td>0</td>\n",
       "      <td>2024</td>\n",
       "      <td>96</td>\n",
       "      <td>['Horror', 'Thriller']</td>\n",
       "      <td>6.5</td>\n",
       "      <td>45</td>\n",
       "      <td>Long</td>\n",
       "    </tr>\n",
       "    <tr>\n",
       "      <th>91415</th>\n",
       "      <td>tt0203234</td>\n",
       "      <td>movie</td>\n",
       "      <td>Ghost Ship Part 1</td>\n",
       "      <td>0</td>\n",
       "      <td>1957</td>\n",
       "      <td>82</td>\n",
       "      <td>['Adventure', 'Fantasy', 'Horror']</td>\n",
       "      <td>6.7</td>\n",
       "      <td>22</td>\n",
       "      <td>Medium</td>\n",
       "    </tr>\n",
       "    <tr>\n",
       "      <th>...</th>\n",
       "      <td>...</td>\n",
       "      <td>...</td>\n",
       "      <td>...</td>\n",
       "      <td>...</td>\n",
       "      <td>...</td>\n",
       "      <td>...</td>\n",
       "      <td>...</td>\n",
       "      <td>...</td>\n",
       "      <td>...</td>\n",
       "      <td>...</td>\n",
       "    </tr>\n",
       "    <tr>\n",
       "      <th>312279</th>\n",
       "      <td>tt7430998</td>\n",
       "      <td>movie</td>\n",
       "      <td>Agam</td>\n",
       "      <td>0</td>\n",
       "      <td>2022</td>\n",
       "      <td>81</td>\n",
       "      <td>['Drama']</td>\n",
       "      <td>6.7</td>\n",
       "      <td>26</td>\n",
       "      <td>Medium</td>\n",
       "    </tr>\n",
       "    <tr>\n",
       "      <th>149915</th>\n",
       "      <td>tt0976132</td>\n",
       "      <td>movie</td>\n",
       "      <td>Lakshmi Kalyanam</td>\n",
       "      <td>0</td>\n",
       "      <td>2007</td>\n",
       "      <td>145</td>\n",
       "      <td>['Action', 'Drama']</td>\n",
       "      <td>4.5</td>\n",
       "      <td>121</td>\n",
       "      <td>Long</td>\n",
       "    </tr>\n",
       "    <tr>\n",
       "      <th>166914</th>\n",
       "      <td>tt11725450</td>\n",
       "      <td>movie</td>\n",
       "      <td>Basta</td>\n",
       "      <td>0</td>\n",
       "      <td>2021</td>\n",
       "      <td>120</td>\n",
       "      <td>['Comedy', 'Drama', 'Family']</td>\n",
       "      <td>7.5</td>\n",
       "      <td>157</td>\n",
       "      <td>Long</td>\n",
       "    </tr>\n",
       "    <tr>\n",
       "      <th>51394</th>\n",
       "      <td>tt0090575</td>\n",
       "      <td>movie</td>\n",
       "      <td>Aakhree Raasta</td>\n",
       "      <td>0</td>\n",
       "      <td>1986</td>\n",
       "      <td>164</td>\n",
       "      <td>['Action', 'Crime', 'Drama']</td>\n",
       "      <td>7.0</td>\n",
       "      <td>1625</td>\n",
       "      <td>Very Long</td>\n",
       "    </tr>\n",
       "    <tr>\n",
       "      <th>132114</th>\n",
       "      <td>tt0427047</td>\n",
       "      <td>movie</td>\n",
       "      <td>Cavalcade</td>\n",
       "      <td>0</td>\n",
       "      <td>2005</td>\n",
       "      <td>90</td>\n",
       "      <td>['Biography', 'Drama']</td>\n",
       "      <td>4.7</td>\n",
       "      <td>218</td>\n",
       "      <td>Long</td>\n",
       "    </tr>\n",
       "  </tbody>\n",
       "</table>\n",
       "<p>20000 rows × 10 columns</p>\n",
       "</div>"
      ],
      "text/plain": [
       "            tconst titleType           primaryTitle  isAdult startYear  \\\n",
       "13750    tt0036533     movie  Whistling in Brooklyn        0      1943   \n",
       "48000    tt0085155     movie                  Amada        0      1983   \n",
       "305618   tt6722202     movie        Guzbay New York        0      2019   \n",
       "253863  tt29038265     movie            Pasar Setan        0      2024   \n",
       "91415    tt0203234     movie      Ghost Ship Part 1        0      1957   \n",
       "...            ...       ...                    ...      ...       ...   \n",
       "312279   tt7430998     movie                   Agam        0      2022   \n",
       "149915   tt0976132     movie       Lakshmi Kalyanam        0      2007   \n",
       "166914  tt11725450     movie                  Basta        0      2021   \n",
       "51394    tt0090575     movie         Aakhree Raasta        0      1986   \n",
       "132114   tt0427047     movie              Cavalcade        0      2005   \n",
       "\n",
       "        runtimeMinutes                              genres  averageRating  \\\n",
       "13750               87       ['Action', 'Comedy', 'Crime']            6.7   \n",
       "48000              105                           ['Drama']            5.8   \n",
       "305618              90      ['Comedy', 'Drama', 'Romance']            6.7   \n",
       "253863              96              ['Horror', 'Thriller']            6.5   \n",
       "91415               82  ['Adventure', 'Fantasy', 'Horror']            6.7   \n",
       "...                ...                                 ...            ...   \n",
       "312279              81                           ['Drama']            6.7   \n",
       "149915             145                 ['Action', 'Drama']            4.5   \n",
       "166914             120       ['Comedy', 'Drama', 'Family']            7.5   \n",
       "51394              164        ['Action', 'Crime', 'Drama']            7.0   \n",
       "132114              90              ['Biography', 'Drama']            4.7   \n",
       "\n",
       "        numVotes runtimeCategory  \n",
       "13750        735          Medium  \n",
       "48000         38            Long  \n",
       "305618        13            Long  \n",
       "253863        45            Long  \n",
       "91415         22          Medium  \n",
       "...          ...             ...  \n",
       "312279        26          Medium  \n",
       "149915       121            Long  \n",
       "166914       157            Long  \n",
       "51394       1625       Very Long  \n",
       "132114       218            Long  \n",
       "\n",
       "[20000 rows x 10 columns]"
      ]
     },
     "execution_count": 58,
     "metadata": {},
     "output_type": "execute_result"
    }
   ],
   "source": [
    "merged_df_filtered"
   ]
  },
  {
   "cell_type": "code",
   "execution_count": 59,
   "metadata": {
    "executionInfo": {
     "elapsed": 12,
     "status": "ok",
     "timestamp": 1727174139514,
     "user": {
      "displayName": "Antonny Muiko",
      "userId": "09124655826879237495"
     },
     "user_tz": -180
    },
    "id": "SFc1BmdVjkH9"
   },
   "outputs": [],
   "source": [
    "merged_df_filtered = merged_df_filtered.reset_index(drop=True)"
   ]
  },
  {
   "cell_type": "code",
   "execution_count": 60,
   "metadata": {
    "colab": {
     "base_uri": "https://localhost:8080/",
     "height": 347
    },
    "executionInfo": {
     "elapsed": 614,
     "status": "ok",
     "timestamp": 1727174140120,
     "user": {
      "displayName": "Antonny Muiko",
      "userId": "09124655826879237495"
     },
     "user_tz": -180
    },
    "id": "GrtK6FybjxW6",
    "outputId": "8b8b8765-b1f2-42b5-c313-8446378a920f"
   },
   "outputs": [
    {
     "data": {
      "text/html": [
       "<div>\n",
       "<style scoped>\n",
       "    .dataframe tbody tr th:only-of-type {\n",
       "        vertical-align: middle;\n",
       "    }\n",
       "\n",
       "    .dataframe tbody tr th {\n",
       "        vertical-align: top;\n",
       "    }\n",
       "\n",
       "    .dataframe thead th {\n",
       "        text-align: right;\n",
       "    }\n",
       "</style>\n",
       "<table border=\"1\" class=\"dataframe\">\n",
       "  <thead>\n",
       "    <tr style=\"text-align: right;\">\n",
       "      <th></th>\n",
       "      <th>tconst</th>\n",
       "      <th>titleType</th>\n",
       "      <th>primaryTitle</th>\n",
       "      <th>isAdult</th>\n",
       "      <th>startYear</th>\n",
       "      <th>runtimeMinutes</th>\n",
       "      <th>genres</th>\n",
       "      <th>averageRating</th>\n",
       "      <th>numVotes</th>\n",
       "      <th>runtimeCategory</th>\n",
       "    </tr>\n",
       "  </thead>\n",
       "  <tbody>\n",
       "    <tr>\n",
       "      <th>0</th>\n",
       "      <td>tt0036533</td>\n",
       "      <td>movie</td>\n",
       "      <td>Whistling in Brooklyn</td>\n",
       "      <td>0</td>\n",
       "      <td>1943</td>\n",
       "      <td>87</td>\n",
       "      <td>['Action', 'Comedy', 'Crime']</td>\n",
       "      <td>6.7</td>\n",
       "      <td>735</td>\n",
       "      <td>Medium</td>\n",
       "    </tr>\n",
       "    <tr>\n",
       "      <th>1</th>\n",
       "      <td>tt0085155</td>\n",
       "      <td>movie</td>\n",
       "      <td>Amada</td>\n",
       "      <td>0</td>\n",
       "      <td>1983</td>\n",
       "      <td>105</td>\n",
       "      <td>['Drama']</td>\n",
       "      <td>5.8</td>\n",
       "      <td>38</td>\n",
       "      <td>Long</td>\n",
       "    </tr>\n",
       "    <tr>\n",
       "      <th>2</th>\n",
       "      <td>tt6722202</td>\n",
       "      <td>movie</td>\n",
       "      <td>Guzbay New York</td>\n",
       "      <td>0</td>\n",
       "      <td>2019</td>\n",
       "      <td>90</td>\n",
       "      <td>['Comedy', 'Drama', 'Romance']</td>\n",
       "      <td>6.7</td>\n",
       "      <td>13</td>\n",
       "      <td>Long</td>\n",
       "    </tr>\n",
       "    <tr>\n",
       "      <th>3</th>\n",
       "      <td>tt29038265</td>\n",
       "      <td>movie</td>\n",
       "      <td>Pasar Setan</td>\n",
       "      <td>0</td>\n",
       "      <td>2024</td>\n",
       "      <td>96</td>\n",
       "      <td>['Horror', 'Thriller']</td>\n",
       "      <td>6.5</td>\n",
       "      <td>45</td>\n",
       "      <td>Long</td>\n",
       "    </tr>\n",
       "    <tr>\n",
       "      <th>4</th>\n",
       "      <td>tt0203234</td>\n",
       "      <td>movie</td>\n",
       "      <td>Ghost Ship Part 1</td>\n",
       "      <td>0</td>\n",
       "      <td>1957</td>\n",
       "      <td>82</td>\n",
       "      <td>['Adventure', 'Fantasy', 'Horror']</td>\n",
       "      <td>6.7</td>\n",
       "      <td>22</td>\n",
       "      <td>Medium</td>\n",
       "    </tr>\n",
       "  </tbody>\n",
       "</table>\n",
       "</div>"
      ],
      "text/plain": [
       "       tconst titleType           primaryTitle  isAdult startYear  \\\n",
       "0   tt0036533     movie  Whistling in Brooklyn        0      1943   \n",
       "1   tt0085155     movie                  Amada        0      1983   \n",
       "2   tt6722202     movie        Guzbay New York        0      2019   \n",
       "3  tt29038265     movie            Pasar Setan        0      2024   \n",
       "4   tt0203234     movie      Ghost Ship Part 1        0      1957   \n",
       "\n",
       "   runtimeMinutes                              genres  averageRating  \\\n",
       "0              87       ['Action', 'Comedy', 'Crime']            6.7   \n",
       "1             105                           ['Drama']            5.8   \n",
       "2              90      ['Comedy', 'Drama', 'Romance']            6.7   \n",
       "3              96              ['Horror', 'Thriller']            6.5   \n",
       "4              82  ['Adventure', 'Fantasy', 'Horror']            6.7   \n",
       "\n",
       "   numVotes runtimeCategory  \n",
       "0       735          Medium  \n",
       "1        38            Long  \n",
       "2        13            Long  \n",
       "3        45            Long  \n",
       "4        22          Medium  "
      ]
     },
     "execution_count": 60,
     "metadata": {},
     "output_type": "execute_result"
    }
   ],
   "source": [
    "merged_df_filtered.head()"
   ]
  },
  {
   "cell_type": "code",
   "execution_count": 61,
   "metadata": {
    "colab": {
     "base_uri": "https://localhost:8080/"
    },
    "executionInfo": {
     "elapsed": 29,
     "status": "ok",
     "timestamp": 1727174140120,
     "user": {
      "displayName": "Antonny Muiko",
      "userId": "09124655826879237495"
     },
     "user_tz": -180
    },
    "id": "JQAdL1O2kUZ2",
    "outputId": "77342d01-111e-49b4-a79a-78c67cb51ace"
   },
   "outputs": [
    {
     "name": "stdout",
     "output_type": "stream",
     "text": [
      "['Whistling in Brooklyn', 'Amada', 'Guzbay New York', 'Pasar Setan', 'Ghost Ship Part 1', 'Senza filtro', 'Tathagatha Buddha The Life & Times of Gautama Buddha', 'Mortal Engines', 'Dead Man Working', 'The Grasslands']\n"
     ]
    }
   ],
   "source": [
    "movies = list(merged_df_filtered['primaryTitle'])\n",
    "\n",
    "print(movies[:10])"
   ]
  },
  {
   "cell_type": "markdown",
   "metadata": {
    "id": "lzyDRboWXva4"
   },
   "source": [
    "#### Feature Engineering"
   ]
  },
  {
   "cell_type": "code",
   "execution_count": 62,
   "metadata": {
    "executionInfo": {
     "elapsed": 23,
     "status": "ok",
     "timestamp": 1727174140120,
     "user": {
      "displayName": "Antonny Muiko",
      "userId": "09124655826879237495"
     },
     "user_tz": -180
    },
    "id": "ZbKrHY4gXva4"
   },
   "outputs": [],
   "source": [
    "# combine genre into single string\n",
    "merged_df_filtered['genres_str'] = merged_df_filtered['genres'].apply(lambda x: ''.join(x))"
   ]
  },
  {
   "cell_type": "code",
   "execution_count": 63,
   "metadata": {},
   "outputs": [
    {
     "data": {
      "text/html": [
       "<div>\n",
       "<style scoped>\n",
       "    .dataframe tbody tr th:only-of-type {\n",
       "        vertical-align: middle;\n",
       "    }\n",
       "\n",
       "    .dataframe tbody tr th {\n",
       "        vertical-align: top;\n",
       "    }\n",
       "\n",
       "    .dataframe thead th {\n",
       "        text-align: right;\n",
       "    }\n",
       "</style>\n",
       "<table border=\"1\" class=\"dataframe\">\n",
       "  <thead>\n",
       "    <tr style=\"text-align: right;\">\n",
       "      <th></th>\n",
       "      <th>tconst</th>\n",
       "      <th>titleType</th>\n",
       "      <th>primaryTitle</th>\n",
       "      <th>isAdult</th>\n",
       "      <th>startYear</th>\n",
       "      <th>runtimeMinutes</th>\n",
       "      <th>genres</th>\n",
       "      <th>averageRating</th>\n",
       "      <th>numVotes</th>\n",
       "      <th>runtimeCategory</th>\n",
       "      <th>genres_str</th>\n",
       "    </tr>\n",
       "  </thead>\n",
       "  <tbody>\n",
       "    <tr>\n",
       "      <th>0</th>\n",
       "      <td>tt0036533</td>\n",
       "      <td>movie</td>\n",
       "      <td>Whistling in Brooklyn</td>\n",
       "      <td>0</td>\n",
       "      <td>1943</td>\n",
       "      <td>87</td>\n",
       "      <td>['Action', 'Comedy', 'Crime']</td>\n",
       "      <td>6.7</td>\n",
       "      <td>735</td>\n",
       "      <td>Medium</td>\n",
       "      <td>['Action', 'Comedy', 'Crime']</td>\n",
       "    </tr>\n",
       "    <tr>\n",
       "      <th>1</th>\n",
       "      <td>tt0085155</td>\n",
       "      <td>movie</td>\n",
       "      <td>Amada</td>\n",
       "      <td>0</td>\n",
       "      <td>1983</td>\n",
       "      <td>105</td>\n",
       "      <td>['Drama']</td>\n",
       "      <td>5.8</td>\n",
       "      <td>38</td>\n",
       "      <td>Long</td>\n",
       "      <td>['Drama']</td>\n",
       "    </tr>\n",
       "    <tr>\n",
       "      <th>2</th>\n",
       "      <td>tt6722202</td>\n",
       "      <td>movie</td>\n",
       "      <td>Guzbay New York</td>\n",
       "      <td>0</td>\n",
       "      <td>2019</td>\n",
       "      <td>90</td>\n",
       "      <td>['Comedy', 'Drama', 'Romance']</td>\n",
       "      <td>6.7</td>\n",
       "      <td>13</td>\n",
       "      <td>Long</td>\n",
       "      <td>['Comedy', 'Drama', 'Romance']</td>\n",
       "    </tr>\n",
       "    <tr>\n",
       "      <th>3</th>\n",
       "      <td>tt29038265</td>\n",
       "      <td>movie</td>\n",
       "      <td>Pasar Setan</td>\n",
       "      <td>0</td>\n",
       "      <td>2024</td>\n",
       "      <td>96</td>\n",
       "      <td>['Horror', 'Thriller']</td>\n",
       "      <td>6.5</td>\n",
       "      <td>45</td>\n",
       "      <td>Long</td>\n",
       "      <td>['Horror', 'Thriller']</td>\n",
       "    </tr>\n",
       "    <tr>\n",
       "      <th>4</th>\n",
       "      <td>tt0203234</td>\n",
       "      <td>movie</td>\n",
       "      <td>Ghost Ship Part 1</td>\n",
       "      <td>0</td>\n",
       "      <td>1957</td>\n",
       "      <td>82</td>\n",
       "      <td>['Adventure', 'Fantasy', 'Horror']</td>\n",
       "      <td>6.7</td>\n",
       "      <td>22</td>\n",
       "      <td>Medium</td>\n",
       "      <td>['Adventure', 'Fantasy', 'Horror']</td>\n",
       "    </tr>\n",
       "  </tbody>\n",
       "</table>\n",
       "</div>"
      ],
      "text/plain": [
       "       tconst titleType           primaryTitle  isAdult startYear  \\\n",
       "0   tt0036533     movie  Whistling in Brooklyn        0      1943   \n",
       "1   tt0085155     movie                  Amada        0      1983   \n",
       "2   tt6722202     movie        Guzbay New York        0      2019   \n",
       "3  tt29038265     movie            Pasar Setan        0      2024   \n",
       "4   tt0203234     movie      Ghost Ship Part 1        0      1957   \n",
       "\n",
       "   runtimeMinutes                              genres  averageRating  \\\n",
       "0              87       ['Action', 'Comedy', 'Crime']            6.7   \n",
       "1             105                           ['Drama']            5.8   \n",
       "2              90      ['Comedy', 'Drama', 'Romance']            6.7   \n",
       "3              96              ['Horror', 'Thriller']            6.5   \n",
       "4              82  ['Adventure', 'Fantasy', 'Horror']            6.7   \n",
       "\n",
       "   numVotes runtimeCategory                          genres_str  \n",
       "0       735          Medium       ['Action', 'Comedy', 'Crime']  \n",
       "1        38            Long                           ['Drama']  \n",
       "2        13            Long      ['Comedy', 'Drama', 'Romance']  \n",
       "3        45            Long              ['Horror', 'Thriller']  \n",
       "4        22          Medium  ['Adventure', 'Fantasy', 'Horror']  "
      ]
     },
     "execution_count": 63,
     "metadata": {},
     "output_type": "execute_result"
    }
   ],
   "source": [
    "merged_df_filtered.head()"
   ]
  },
  {
   "cell_type": "code",
   "execution_count": 64,
   "metadata": {
    "executionInfo": {
     "elapsed": 25,
     "status": "ok",
     "timestamp": 1727174140122,
     "user": {
      "displayName": "Antonny Muiko",
      "userId": "09124655826879237495"
     },
     "user_tz": -180
    },
    "id": "aLMlOTsBXva4"
   },
   "outputs": [],
   "source": [
    "tfidf = TfidfVectorizer()\n",
    "\n",
    "tfidf_matrix = tfidf.fit_transform(merged_df_filtered['genres_str'])"
   ]
  },
  {
   "cell_type": "code",
   "execution_count": 65,
   "metadata": {
    "colab": {
     "base_uri": "https://localhost:8080/"
    },
    "executionInfo": {
     "elapsed": 23,
     "status": "ok",
     "timestamp": 1727174140122,
     "user": {
      "displayName": "Antonny Muiko",
      "userId": "09124655826879237495"
     },
     "user_tz": -180
    },
    "id": "fVNjeO5BXva4",
    "outputId": "2f5f7640-4ea2-42c6-e35d-72d6213f01b8"
   },
   "outputs": [
    {
     "data": {
      "text/plain": [
       "(20000, 32)"
      ]
     },
     "execution_count": 65,
     "metadata": {},
     "output_type": "execute_result"
    }
   ],
   "source": [
    "tfidf_matrix.shape"
   ]
  },
  {
   "cell_type": "code",
   "execution_count": 66,
   "metadata": {},
   "outputs": [
    {
     "data": {
      "text/html": [
       "<div>\n",
       "<style scoped>\n",
       "    .dataframe tbody tr th:only-of-type {\n",
       "        vertical-align: middle;\n",
       "    }\n",
       "\n",
       "    .dataframe tbody tr th {\n",
       "        vertical-align: top;\n",
       "    }\n",
       "\n",
       "    .dataframe thead th {\n",
       "        text-align: right;\n",
       "    }\n",
       "</style>\n",
       "<table border=\"1\" class=\"dataframe\">\n",
       "  <thead>\n",
       "    <tr style=\"text-align: right;\">\n",
       "      <th></th>\n",
       "      <th>action</th>\n",
       "      <th>adult</th>\n",
       "      <th>adventure</th>\n",
       "      <th>animation</th>\n",
       "      <th>biography</th>\n",
       "      <th>comedy</th>\n",
       "      <th>crime</th>\n",
       "      <th>documentary</th>\n",
       "      <th>drama</th>\n",
       "      <th>family</th>\n",
       "      <th>...</th>\n",
       "      <th>romance</th>\n",
       "      <th>sci</th>\n",
       "      <th>short</th>\n",
       "      <th>show</th>\n",
       "      <th>sport</th>\n",
       "      <th>talk</th>\n",
       "      <th>thriller</th>\n",
       "      <th>tv</th>\n",
       "      <th>war</th>\n",
       "      <th>western</th>\n",
       "    </tr>\n",
       "  </thead>\n",
       "  <tbody>\n",
       "    <tr>\n",
       "      <th>0</th>\n",
       "      <td>0.621948</td>\n",
       "      <td>0.0</td>\n",
       "      <td>0.000000</td>\n",
       "      <td>0.0</td>\n",
       "      <td>0.0</td>\n",
       "      <td>0.439872</td>\n",
       "      <td>0.647837</td>\n",
       "      <td>0.0</td>\n",
       "      <td>0.000000</td>\n",
       "      <td>0.0</td>\n",
       "      <td>...</td>\n",
       "      <td>0.000000</td>\n",
       "      <td>0.0</td>\n",
       "      <td>0.0</td>\n",
       "      <td>0.0</td>\n",
       "      <td>0.0</td>\n",
       "      <td>0.0</td>\n",
       "      <td>0.000000</td>\n",
       "      <td>0.0</td>\n",
       "      <td>0.0</td>\n",
       "      <td>0.0</td>\n",
       "    </tr>\n",
       "    <tr>\n",
       "      <th>1</th>\n",
       "      <td>0.000000</td>\n",
       "      <td>0.0</td>\n",
       "      <td>0.000000</td>\n",
       "      <td>0.0</td>\n",
       "      <td>0.0</td>\n",
       "      <td>0.000000</td>\n",
       "      <td>0.000000</td>\n",
       "      <td>0.0</td>\n",
       "      <td>1.000000</td>\n",
       "      <td>0.0</td>\n",
       "      <td>...</td>\n",
       "      <td>0.000000</td>\n",
       "      <td>0.0</td>\n",
       "      <td>0.0</td>\n",
       "      <td>0.0</td>\n",
       "      <td>0.0</td>\n",
       "      <td>0.0</td>\n",
       "      <td>0.000000</td>\n",
       "      <td>0.0</td>\n",
       "      <td>0.0</td>\n",
       "      <td>0.0</td>\n",
       "    </tr>\n",
       "    <tr>\n",
       "      <th>2</th>\n",
       "      <td>0.000000</td>\n",
       "      <td>0.0</td>\n",
       "      <td>0.000000</td>\n",
       "      <td>0.0</td>\n",
       "      <td>0.0</td>\n",
       "      <td>0.535079</td>\n",
       "      <td>0.000000</td>\n",
       "      <td>0.0</td>\n",
       "      <td>0.415032</td>\n",
       "      <td>0.0</td>\n",
       "      <td>...</td>\n",
       "      <td>0.735825</td>\n",
       "      <td>0.0</td>\n",
       "      <td>0.0</td>\n",
       "      <td>0.0</td>\n",
       "      <td>0.0</td>\n",
       "      <td>0.0</td>\n",
       "      <td>0.000000</td>\n",
       "      <td>0.0</td>\n",
       "      <td>0.0</td>\n",
       "      <td>0.0</td>\n",
       "    </tr>\n",
       "    <tr>\n",
       "      <th>3</th>\n",
       "      <td>0.000000</td>\n",
       "      <td>0.0</td>\n",
       "      <td>0.000000</td>\n",
       "      <td>0.0</td>\n",
       "      <td>0.0</td>\n",
       "      <td>0.000000</td>\n",
       "      <td>0.000000</td>\n",
       "      <td>0.0</td>\n",
       "      <td>0.000000</td>\n",
       "      <td>0.0</td>\n",
       "      <td>...</td>\n",
       "      <td>0.000000</td>\n",
       "      <td>0.0</td>\n",
       "      <td>0.0</td>\n",
       "      <td>0.0</td>\n",
       "      <td>0.0</td>\n",
       "      <td>0.0</td>\n",
       "      <td>0.690162</td>\n",
       "      <td>0.0</td>\n",
       "      <td>0.0</td>\n",
       "      <td>0.0</td>\n",
       "    </tr>\n",
       "    <tr>\n",
       "      <th>4</th>\n",
       "      <td>0.000000</td>\n",
       "      <td>0.0</td>\n",
       "      <td>0.537448</td>\n",
       "      <td>0.0</td>\n",
       "      <td>0.0</td>\n",
       "      <td>0.000000</td>\n",
       "      <td>0.000000</td>\n",
       "      <td>0.0</td>\n",
       "      <td>0.000000</td>\n",
       "      <td>0.0</td>\n",
       "      <td>...</td>\n",
       "      <td>0.000000</td>\n",
       "      <td>0.0</td>\n",
       "      <td>0.0</td>\n",
       "      <td>0.0</td>\n",
       "      <td>0.0</td>\n",
       "      <td>0.0</td>\n",
       "      <td>0.000000</td>\n",
       "      <td>0.0</td>\n",
       "      <td>0.0</td>\n",
       "      <td>0.0</td>\n",
       "    </tr>\n",
       "  </tbody>\n",
       "</table>\n",
       "<p>5 rows × 32 columns</p>\n",
       "</div>"
      ],
      "text/plain": [
       "     action  adult  adventure  animation  biography    comedy     crime  \\\n",
       "0  0.621948    0.0   0.000000        0.0        0.0  0.439872  0.647837   \n",
       "1  0.000000    0.0   0.000000        0.0        0.0  0.000000  0.000000   \n",
       "2  0.000000    0.0   0.000000        0.0        0.0  0.535079  0.000000   \n",
       "3  0.000000    0.0   0.000000        0.0        0.0  0.000000  0.000000   \n",
       "4  0.000000    0.0   0.537448        0.0        0.0  0.000000  0.000000   \n",
       "\n",
       "   documentary     drama  family  ...   romance  sci  short  show  sport  \\\n",
       "0          0.0  0.000000     0.0  ...  0.000000  0.0    0.0   0.0    0.0   \n",
       "1          0.0  1.000000     0.0  ...  0.000000  0.0    0.0   0.0    0.0   \n",
       "2          0.0  0.415032     0.0  ...  0.735825  0.0    0.0   0.0    0.0   \n",
       "3          0.0  0.000000     0.0  ...  0.000000  0.0    0.0   0.0    0.0   \n",
       "4          0.0  0.000000     0.0  ...  0.000000  0.0    0.0   0.0    0.0   \n",
       "\n",
       "   talk  thriller   tv  war  western  \n",
       "0   0.0  0.000000  0.0  0.0      0.0  \n",
       "1   0.0  0.000000  0.0  0.0      0.0  \n",
       "2   0.0  0.000000  0.0  0.0      0.0  \n",
       "3   0.0  0.690162  0.0  0.0      0.0  \n",
       "4   0.0  0.000000  0.0  0.0      0.0  \n",
       "\n",
       "[5 rows x 32 columns]"
      ]
     },
     "execution_count": 66,
     "metadata": {},
     "output_type": "execute_result"
    }
   ],
   "source": [
    "# view matrix in a dataframe\n",
    "\n",
    "feature_names = tfidf.get_feature_names()\n",
    "\n",
    "tf_df_output = pd.DataFrame(tfidf_matrix.toarray(), columns=feature_names)\n",
    "\n",
    "tf_df_output.head()"
   ]
  },
  {
   "cell_type": "code",
   "execution_count": 67,
   "metadata": {
    "executionInfo": {
     "elapsed": 18,
     "status": "ok",
     "timestamp": 1727174140122,
     "user": {
      "displayName": "Antonny Muiko",
      "userId": "09124655826879237495"
     },
     "user_tz": -180
    },
    "id": "tt0sc_HrXva5"
   },
   "outputs": [
    {
     "data": {
      "text/html": [
       "<div>\n",
       "<style scoped>\n",
       "    .dataframe tbody tr th:only-of-type {\n",
       "        vertical-align: middle;\n",
       "    }\n",
       "\n",
       "    .dataframe tbody tr th {\n",
       "        vertical-align: top;\n",
       "    }\n",
       "\n",
       "    .dataframe thead th {\n",
       "        text-align: right;\n",
       "    }\n",
       "</style>\n",
       "<table border=\"1\" class=\"dataframe\">\n",
       "  <thead>\n",
       "    <tr style=\"text-align: right;\">\n",
       "      <th></th>\n",
       "      <th>cat</th>\n",
       "      <th>eating</th>\n",
       "      <th>food</th>\n",
       "      <th>is</th>\n",
       "      <th>mat</th>\n",
       "      <th>on</th>\n",
       "      <th>playing</th>\n",
       "      <th>sitting</th>\n",
       "      <th>the</th>\n",
       "      <th>toys</th>\n",
       "      <th>with</th>\n",
       "    </tr>\n",
       "  </thead>\n",
       "  <tbody>\n",
       "    <tr>\n",
       "      <th>0</th>\n",
       "      <td>0.293607</td>\n",
       "      <td>0.000000</td>\n",
       "      <td>0.000000</td>\n",
       "      <td>0.293607</td>\n",
       "      <td>0.49712</td>\n",
       "      <td>0.49712</td>\n",
       "      <td>0.00000</td>\n",
       "      <td>0.49712</td>\n",
       "      <td>0.293607</td>\n",
       "      <td>0.00000</td>\n",
       "      <td>0.00000</td>\n",
       "    </tr>\n",
       "    <tr>\n",
       "      <th>1</th>\n",
       "      <td>0.338381</td>\n",
       "      <td>0.572929</td>\n",
       "      <td>0.572929</td>\n",
       "      <td>0.338381</td>\n",
       "      <td>0.00000</td>\n",
       "      <td>0.00000</td>\n",
       "      <td>0.00000</td>\n",
       "      <td>0.00000</td>\n",
       "      <td>0.338381</td>\n",
       "      <td>0.00000</td>\n",
       "      <td>0.00000</td>\n",
       "    </tr>\n",
       "    <tr>\n",
       "      <th>2</th>\n",
       "      <td>0.293607</td>\n",
       "      <td>0.000000</td>\n",
       "      <td>0.000000</td>\n",
       "      <td>0.293607</td>\n",
       "      <td>0.00000</td>\n",
       "      <td>0.00000</td>\n",
       "      <td>0.49712</td>\n",
       "      <td>0.00000</td>\n",
       "      <td>0.293607</td>\n",
       "      <td>0.49712</td>\n",
       "      <td>0.49712</td>\n",
       "    </tr>\n",
       "  </tbody>\n",
       "</table>\n",
       "</div>"
      ],
      "text/plain": [
       "        cat    eating      food        is      mat       on  playing  sitting  \\\n",
       "0  0.293607  0.000000  0.000000  0.293607  0.49712  0.49712  0.00000  0.49712   \n",
       "1  0.338381  0.572929  0.572929  0.338381  0.00000  0.00000  0.00000  0.00000   \n",
       "2  0.293607  0.000000  0.000000  0.293607  0.00000  0.00000  0.49712  0.00000   \n",
       "\n",
       "        the     toys     with  \n",
       "0  0.293607  0.00000  0.00000  \n",
       "1  0.338381  0.00000  0.00000  \n",
       "2  0.293607  0.49712  0.49712  "
      ]
     },
     "execution_count": 67,
     "metadata": {},
     "output_type": "execute_result"
    }
   ],
   "source": [
    "# learn from example here\n",
    "\n",
    "text = [\n",
    "    'The cat is sitting on a mat',\n",
    "    'The cat is eating food',\n",
    "    'the cat is playing with toys'\n",
    "]\n",
    "\n",
    "tfidf_object = TfidfVectorizer()\n",
    "\n",
    "matrix = tfidf_object.fit_transform(text)\n",
    "\n",
    "feature_names = tfidf_object.get_feature_names()\n",
    "\n",
    "tf_df = pd.DataFrame(matrix.toarray(), columns=feature_names)\n",
    "\n",
    "tf_df"
   ]
  },
  {
   "cell_type": "code",
   "execution_count": 68,
   "metadata": {
    "executionInfo": {
     "elapsed": 7228,
     "status": "ok",
     "timestamp": 1727174147335,
     "user": {
      "displayName": "Antonny Muiko",
      "userId": "09124655826879237495"
     },
     "user_tz": -180
    },
    "id": "htzsGoucXva5"
   },
   "outputs": [],
   "source": [
    "# compute the cosine similarity matrix, based on TF-IDF matrix\n",
    "cosine_sim = cosine_similarity(tfidf_matrix, tfidf_matrix)"
   ]
  },
  {
   "cell_type": "code",
   "execution_count": 69,
   "metadata": {
    "colab": {
     "base_uri": "https://localhost:8080/"
    },
    "executionInfo": {
     "elapsed": 11,
     "status": "ok",
     "timestamp": 1727174147336,
     "user": {
      "displayName": "Antonny Muiko",
      "userId": "09124655826879237495"
     },
     "user_tz": -180
    },
    "id": "gFd9U6W-aV0Z",
    "outputId": "61311d4b-aeab-4f00-eade-e7309464404d"
   },
   "outputs": [
    {
     "data": {
      "text/plain": [
       "(20000, 20000)"
      ]
     },
     "execution_count": 69,
     "metadata": {},
     "output_type": "execute_result"
    }
   ],
   "source": [
    "# check the shape\n",
    "cosine_sim.shape"
   ]
  },
  {
   "cell_type": "code",
   "execution_count": 70,
   "metadata": {
    "executionInfo": {
     "elapsed": 7,
     "status": "ok",
     "timestamp": 1727174147336,
     "user": {
      "displayName": "Antonny Muiko",
      "userId": "09124655826879237495"
     },
     "user_tz": -180
    },
    "id": "xGB8RPiebDcX"
   },
   "outputs": [],
   "source": [
    "scaler = MinMaxScaler()\n",
    "\n",
    "merged_df_filtered[['averageRating_norm', 'numVotes_norm']] = scaler.fit_transform(merged_df_filtered[['averageRating', 'numVotes']])"
   ]
  },
  {
   "cell_type": "code",
   "execution_count": 71,
   "metadata": {},
   "outputs": [
    {
     "data": {
      "text/html": [
       "<div>\n",
       "<style scoped>\n",
       "    .dataframe tbody tr th:only-of-type {\n",
       "        vertical-align: middle;\n",
       "    }\n",
       "\n",
       "    .dataframe tbody tr th {\n",
       "        vertical-align: top;\n",
       "    }\n",
       "\n",
       "    .dataframe thead th {\n",
       "        text-align: right;\n",
       "    }\n",
       "</style>\n",
       "<table border=\"1\" class=\"dataframe\">\n",
       "  <thead>\n",
       "    <tr style=\"text-align: right;\">\n",
       "      <th></th>\n",
       "      <th>averageRating_norm</th>\n",
       "    </tr>\n",
       "  </thead>\n",
       "  <tbody>\n",
       "    <tr>\n",
       "      <th>0</th>\n",
       "      <td>0.633333</td>\n",
       "    </tr>\n",
       "    <tr>\n",
       "      <th>1</th>\n",
       "      <td>0.533333</td>\n",
       "    </tr>\n",
       "    <tr>\n",
       "      <th>2</th>\n",
       "      <td>0.633333</td>\n",
       "    </tr>\n",
       "    <tr>\n",
       "      <th>3</th>\n",
       "      <td>0.611111</td>\n",
       "    </tr>\n",
       "    <tr>\n",
       "      <th>4</th>\n",
       "      <td>0.633333</td>\n",
       "    </tr>\n",
       "    <tr>\n",
       "      <th>...</th>\n",
       "      <td>...</td>\n",
       "    </tr>\n",
       "    <tr>\n",
       "      <th>19995</th>\n",
       "      <td>0.633333</td>\n",
       "    </tr>\n",
       "    <tr>\n",
       "      <th>19996</th>\n",
       "      <td>0.388889</td>\n",
       "    </tr>\n",
       "    <tr>\n",
       "      <th>19997</th>\n",
       "      <td>0.722222</td>\n",
       "    </tr>\n",
       "    <tr>\n",
       "      <th>19998</th>\n",
       "      <td>0.666667</td>\n",
       "    </tr>\n",
       "    <tr>\n",
       "      <th>19999</th>\n",
       "      <td>0.411111</td>\n",
       "    </tr>\n",
       "  </tbody>\n",
       "</table>\n",
       "<p>20000 rows × 1 columns</p>\n",
       "</div>"
      ],
      "text/plain": [
       "       averageRating_norm\n",
       "0                0.633333\n",
       "1                0.533333\n",
       "2                0.633333\n",
       "3                0.611111\n",
       "4                0.633333\n",
       "...                   ...\n",
       "19995            0.633333\n",
       "19996            0.388889\n",
       "19997            0.722222\n",
       "19998            0.666667\n",
       "19999            0.411111\n",
       "\n",
       "[20000 rows x 1 columns]"
      ]
     },
     "execution_count": 71,
     "metadata": {},
     "output_type": "execute_result"
    }
   ],
   "source": [
    "merged_df_filtered[['averageRating_norm']]"
   ]
  },
  {
   "cell_type": "code",
   "execution_count": 72,
   "metadata": {
    "executionInfo": {
     "elapsed": 2334,
     "status": "ok",
     "timestamp": 1727174153479,
     "user": {
      "displayName": "Antonny Muiko",
      "userId": "09124655826879237495"
     },
     "user_tz": -180
    },
    "id": "Zz_pDQpwgIgl"
   },
   "outputs": [],
   "source": [
    "# cosine similarities between ratings\n",
    "\n",
    "cosine_sim_ratings = cosine_similarity(merged_df_filtered[['averageRating_norm']])"
   ]
  },
  {
   "cell_type": "code",
   "execution_count": 73,
   "metadata": {},
   "outputs": [
    {
     "data": {
      "text/plain": [
       "(20000, 20000)"
      ]
     },
     "execution_count": 73,
     "metadata": {},
     "output_type": "execute_result"
    }
   ],
   "source": [
    "cosine_sim_ratings.shape"
   ]
  },
  {
   "cell_type": "code",
   "execution_count": 74,
   "metadata": {
    "executionInfo": {
     "elapsed": 2137,
     "status": "ok",
     "timestamp": 1727174155613,
     "user": {
      "displayName": "Antonny Muiko",
      "userId": "09124655826879237495"
     },
     "user_tz": -180
    },
    "id": "z5Wkl859gZ6v"
   },
   "outputs": [],
   "source": [
    "# consine similarities between numvotes\n",
    "\n",
    "cosine_sim_votes = cosine_similarity(merged_df_filtered[['numVotes_norm']])"
   ]
  },
  {
   "cell_type": "markdown",
   "metadata": {
    "id": "SSkTYh_rgtYa"
   },
   "source": [
    "Objective: Combine all the similarities into one.\n",
    "\n",
    "Decide how much weight to allocate each factor.\n",
    "\n",
    "Example:\n",
    "\n",
    "60% Genre\n",
    "30% Ratings\n",
    "10% No. Votes"
   ]
  },
  {
   "cell_type": "markdown",
   "metadata": {},
   "source": [
    "**Get a look at the cosine similarity matrix**"
   ]
  },
  {
   "cell_type": "code",
   "execution_count": 88,
   "metadata": {},
   "outputs": [
    {
     "data": {
      "text/plain": [
       "array([[1.        , 0.        , 0.23536647, ..., 0.2072756 , 0.83951621,\n",
       "        0.        ],\n",
       "       [0.        , 1.        , 0.4150322 , ..., 0.36549831, 0.35514708,\n",
       "        0.37177408],\n",
       "       [0.23536647, 0.4150322 , 1.        , ..., 0.4038324 , 0.14739747,\n",
       "        0.15429821],\n",
       "       ...,\n",
       "       [0.2072756 , 0.36549831, 0.4038324 , ..., 1.        , 0.12980566,\n",
       "        0.1358828 ],\n",
       "       [0.83951621, 0.35514708, 0.14739747, ..., 0.12980566, 1.        ,\n",
       "        0.13203448],\n",
       "       [0.        , 0.37177408, 0.15429821, ..., 0.1358828 , 0.13203448,\n",
       "        1.        ]])"
      ]
     },
     "execution_count": 88,
     "metadata": {},
     "output_type": "execute_result"
    }
   ],
   "source": [
    "cosine_sim"
   ]
  },
  {
   "cell_type": "code",
   "execution_count": 86,
   "metadata": {},
   "outputs": [
    {
     "data": {
      "text/plain": [
       "array([[1., 1., 1., ..., 1., 1., 1.],\n",
       "       [1., 1., 1., ..., 1., 1., 1.],\n",
       "       [1., 1., 1., ..., 1., 1., 1.],\n",
       "       ...,\n",
       "       [1., 1., 1., ..., 1., 1., 1.],\n",
       "       [1., 1., 1., ..., 1., 1., 1.],\n",
       "       [1., 1., 1., ..., 1., 1., 1.]])"
      ]
     },
     "execution_count": 86,
     "metadata": {},
     "output_type": "execute_result"
    }
   ],
   "source": [
    "cosine_sim_ratings"
   ]
  },
  {
   "cell_type": "code",
   "execution_count": 87,
   "metadata": {},
   "outputs": [
    {
     "data": {
      "text/plain": [
       "array([[1., 1., 1., ..., 1., 1., 1.],\n",
       "       [1., 1., 1., ..., 1., 1., 1.],\n",
       "       [1., 1., 1., ..., 1., 1., 1.],\n",
       "       ...,\n",
       "       [1., 1., 1., ..., 1., 1., 1.],\n",
       "       [1., 1., 1., ..., 1., 1., 1.],\n",
       "       [1., 1., 1., ..., 1., 1., 1.]])"
      ]
     },
     "execution_count": 87,
     "metadata": {},
     "output_type": "execute_result"
    }
   ],
   "source": [
    "cosine_sim_votes"
   ]
  },
  {
   "cell_type": "code",
   "execution_count": 89,
   "metadata": {
    "id": "_OfDRhJEgkS2"
   },
   "outputs": [],
   "source": [
    "# combine the similarity matrices with weights\n",
    "combine_simi = (0.6 * cosine_sim) + (0.3 * cosine_sim_ratings) + (0.1 * cosine_sim_votes)"
   ]
  },
  {
   "cell_type": "code",
   "execution_count": 90,
   "metadata": {},
   "outputs": [
    {
     "data": {
      "text/plain": [
       "(20000, 20000)"
      ]
     },
     "execution_count": 90,
     "metadata": {},
     "output_type": "execute_result"
    }
   ],
   "source": [
    "combine_simi.shape "
   ]
  },
  {
   "cell_type": "markdown",
   "metadata": {
    "id": "46KKwPAHha9v"
   },
   "source": [
    "### Recommendation Function"
   ]
  },
  {
   "cell_type": "code",
   "execution_count": 91,
   "metadata": {
    "id": "e-UkXPjLhTX1"
   },
   "outputs": [],
   "source": [
    "def get_recommendations(title, data, similarity_matrix=combine_simi, n=10):\n",
    "    # get the index of the movie that matches the title\n",
    "    idx = data[data['primaryTitle'] == title].index[0]\n",
    "\n",
    "    # get the similarity scores for all the movies with this particular movie\n",
    "    sim_scores = list(enumerate(similarity_matrix[idx]))\n",
    "\n",
    "    # sort the movies based on the similarity scores\n",
    "    sim_scores = sorted(sim_scores, key=lambda x: x[1], reverse=True)\n",
    "\n",
    "    # get the indices of the most similar movies\n",
    "    sim_scores = sim_scores[1: n+1]\n",
    "\n",
    "    # get the movie indices\n",
    "    movie_indices = [i[0] for i in sim_scores]\n",
    "\n",
    "    # return the top n most similar movies\n",
    "    return data.iloc[movie_indices][['primaryTitle', 'averageRating', 'numVotes']]"
   ]
  },
  {
   "cell_type": "code",
   "execution_count": 92,
   "metadata": {
    "id": "W_51vpFDjCMo"
   },
   "outputs": [
    {
     "name": "stdout",
     "output_type": "stream",
     "text": [
      "                  primaryTitle  averageRating  numVotes\n",
      "22    Christmas at the Chateau            3.8       362\n",
      "124  Miss Shellagh's Miniskirt            7.2        13\n",
      "174            Kabaddi Kabaddi            6.5       129\n",
      "470      Home for the Holidays            6.6     14684\n",
      "604            The Film Critic            6.2       699\n"
     ]
    }
   ],
   "source": [
    "recommendations = get_recommendations('Guzbay New York', merged_df_filtered, n=5)\n",
    "print(recommendations)"
   ]
  },
  {
   "cell_type": "code",
   "execution_count": 93,
   "metadata": {
    "id": "GNYW9HySjfh2"
   },
   "outputs": [
    {
     "name": "stdout",
     "output_type": "stream",
     "text": [
      "                                           primaryTitle  averageRating  \\\n",
      "415                                       Star Troopers            4.7   \n",
      "1713                                     Tulisang pugot            5.2   \n",
      "6028  Forbidden Martial Arts: The Nine Mysterious Ca...            5.5   \n",
      "6902                                    Raising Dragons            6.5   \n",
      "6966                                          Magma Man            7.4   \n",
      "\n",
      "      numVotes  \n",
      "415        187  \n",
      "1713         8  \n",
      "6028        16  \n",
      "6902        16  \n",
      "6966        18  \n"
     ]
    }
   ],
   "source": [
    "recommendations = get_recommendations('Mortal Engines', merged_df_filtered, n=5)\n",
    "print(recommendations)"
   ]
  },
  {
   "cell_type": "code",
   "execution_count": null,
   "metadata": {
    "id": "2PBl7QYtkivq"
   },
   "outputs": [],
   "source": []
  }
 ],
 "metadata": {
  "colab": {
   "provenance": []
  },
  "kernelspec": {
   "display_name": "learn-env",
   "language": "python",
   "name": "python3"
  },
  "language_info": {
   "codemirror_mode": {
    "name": "ipython",
    "version": 3
   },
   "file_extension": ".py",
   "mimetype": "text/x-python",
   "name": "python",
   "nbconvert_exporter": "python",
   "pygments_lexer": "ipython3",
   "version": "3.8.12"
  }
 },
 "nbformat": 4,
 "nbformat_minor": 0
}
